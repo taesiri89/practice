{
 "cells": [
  {
   "cell_type": "code",
   "execution_count": 6,
   "metadata": {
    "collapsed": false,
    "scrolled": true
   },
   "outputs": [
    {
     "name": "stdout",
     "output_type": "stream",
     "text": [
      "20 번 손님 안녕하세요 . 문자열 포맷세계 에 오신것을 환영합니다 !\n"
     ]
    }
   ],
   "source": [
    "number=20\n",
    "greet='안녕하세요'\n",
    "place='문자열 포맷세계'\n",
    "welcome='환영합니다'\n",
    "\n",
    "print(number,'번 손님',greet,'.',place,'에 오신것을',welcome,'!')"
   ]
  },
  {
   "cell_type": "code",
   "execution_count": 13,
   "metadata": {
    "collapsed": false
   },
   "outputs": [
    {
     "name": "stdout",
     "output_type": "stream",
     "text": [
      "{}번 손님, {}. {}에 오신 것을 {}!\n",
      "20번 손님, 안녕하세요. 문자열 포맷세계에 오신 것을 환영합니다!\n"
     ]
    }
   ],
   "source": [
    "base='{}번 손님, {}. {}에 오신 것을 {}!'\n",
    "new_way=base.format(number, greet, place, welcome)\n",
    "print(base)\n",
    "print(new_way)"
   ]
  },
  {
   "cell_type": "code",
   "execution_count": 14,
   "metadata": {
    "collapsed": false
   },
   "outputs": [
    {
     "name": "stdout",
     "output_type": "stream",
     "text": [
      "20번 손님 안녕하세요. 문자열 포맷세계에 오신 것을 환영합니다!\n"
     ]
    }
   ],
   "source": [
    "print('{}번 손님 {}. {}에 오신 것을 {}!' .format(number,greet,place,welcome))"
   ]
  },
  {
   "cell_type": "code",
   "execution_count": 51,
   "metadata": {
    "collapsed": false
   },
   "outputs": [
    {
     "name": "stdout",
     "output_type": "stream",
     "text": [
      "1344\n"
     ]
    }
   ],
   "source": [
    "def nlcm(num):\n",
    "    answer = 0\n",
    "    s=1\n",
    "    for i in num:\n",
    "        s=i*s\n",
    "        \n",
    "    for i in num:\n",
    "        if s % i ==0:\n",
    "    \n",
    "        \n",
    "    return answer\n",
    "\n",
    "# 아래는 테스트로 출력해 보기 위한 코드입니다.\n",
    "print(nlcm([2,6,8,14]));"
   ]
  },
  {
   "cell_type": "code",
   "execution_count": 50,
   "metadata": {
    "collapsed": false
   },
   "outputs": [
    {
     "name": "stdout",
     "output_type": "stream",
     "text": [
      "0\n"
     ]
    }
   ],
   "source": [
    "def nlcm(num):\n",
    "    answer = 0\n",
    "    \n",
    "        \n",
    "\n",
    "    return answer\n",
    "\n",
    "# 아래는 테스트로 출력해 보기 위한 코드입니다.\n",
    "print(nlcm([2,6,8,14]));"
   ]
  },
  {
   "cell_type": "code",
   "execution_count": 69,
   "metadata": {
    "collapsed": false,
    "scrolled": true
   },
   "outputs": [
    {
     "data": {
      "text/plain": [
       "'가'"
      ]
     },
     "execution_count": 69,
     "metadata": {},
     "output_type": "execute_result"
    }
   ],
   "source": [
    "chr(44032)"
   ]
  }
 ],
 "metadata": {
  "anaconda-cloud": {},
  "kernelspec": {
   "display_name": "Python [conda root]",
   "language": "python",
   "name": "conda-root-py"
  },
  "language_info": {
   "codemirror_mode": {
    "name": "ipython",
    "version": 3
   },
   "file_extension": ".py",
   "mimetype": "text/x-python",
   "name": "python",
   "nbconvert_exporter": "python",
   "pygments_lexer": "ipython3",
   "version": "3.5.2"
  }
 },
 "nbformat": 4,
 "nbformat_minor": 1
}
