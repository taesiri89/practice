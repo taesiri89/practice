{
 "cells": [
  {
   "cell_type": "code",
   "execution_count": 1,
   "metadata": {
    "collapsed": true
   },
   "outputs": [],
   "source": [
    "#라이브러리 호출\n",
    "import numpy as np\n",
    "import pandas as pd"
   ]
  },
  {
   "cell_type": "markdown",
   "metadata": {},
   "source": [
    "### 1025 handling csv"
   ]
  },
  {
   "cell_type": "markdown",
   "metadata": {},
   "source": [
    "+ csv reader \n",
    "+ csv writer"
   ]
  },
  {
   "cell_type": "code",
   "execution_count": 2,
   "metadata": {},
   "outputs": [
    {
     "ename": "SyntaxError",
     "evalue": "EOF while scanning triple-quoted string literal (<ipython-input-2-41f33400d4b1>, line 13)",
     "output_type": "error",
     "traceback": [
      "\u001b[1;36m  File \u001b[1;32m\"<ipython-input-2-41f33400d4b1>\"\u001b[1;36m, line \u001b[1;32m13\u001b[0m\n\u001b[1;33m    '''\u001b[0m\n\u001b[1;37m       \n^\u001b[0m\n\u001b[1;31mSyntaxError\u001b[0m\u001b[1;31m:\u001b[0m EOF while scanning triple-quoted string literal\n"
     ]
    }
   ],
   "source": [
    "'''\n",
    "with open(\"C:\\Users\\Aerry Choi\\Desktop\\Demographic_Statistics_By_Zip_Code.csv\") as infile:\n",
    "    data = list(csv.reader(infile))\n",
    "\n",
    "countParticipantsIndex = data[0].index(\"COUNT PARTICIPANTS\")\n",
    "print(countParticipantsIndex)\n",
    "'''\n",
    "\n",
    "\"\"\"\n",
    "import statistics\n",
    "countParticipants = [int(row[countParticipantsIndex]) for row in data [1:]]\n",
    "print(statistics.mean(countParticipants), statistics.stdev(countParticipants))\n",
    "'''"
   ]
  },
  {
   "cell_type": "markdown",
   "metadata": {},
   "source": [
    "+ pymysql\n",
    "+ conn = pymysql.connect(host='localhost',port=3306, user =\"user\", passwd=\"badpassword\", db=\"dsdb\") \n",
    "+ cur = conn.cursor() \n",
    "+ query ='select movie.title, movie.length, movie.movie_id from movie where movie_id >5 order by movie.length' \n",
    "+ n_rows = cur.execute(query) \n",
    "+ results = list(cur.fetchall()) \n",
    "+ print(results)"
   ]
  },
  {
   "cell_type": "code",
   "execution_count": null,
   "metadata": {
    "collapsed": true
   },
   "outputs": [],
   "source": []
  },
  {
   "cell_type": "markdown",
   "metadata": {},
   "source": [
    "### 1027 numpy, pandas"
   ]
  },
  {
   "cell_type": "code",
   "execution_count": 3,
   "metadata": {},
   "outputs": [
    {
     "name": "stdout",
     "output_type": "stream",
     "text": [
      "[ 1  2  3  4  5  6  7  8  9 10]\n"
     ]
    }
   ],
   "source": [
    "numbers =np.array(range(1,11), copy=True)\n",
    "print(numbers)"
   ]
  },
  {
   "cell_type": "code",
   "execution_count": 4,
   "metadata": {},
   "outputs": [
    {
     "data": {
      "text/plain": [
       "array([[ 1.]])"
      ]
     },
     "execution_count": 4,
     "metadata": {},
     "output_type": "execute_result"
    }
   ],
   "source": [
    "np.ones([1,1])"
   ]
  },
  {
   "cell_type": "code",
   "execution_count": 5,
   "metadata": {},
   "outputs": [
    {
     "name": "stdout",
     "output_type": "stream",
     "text": [
      "[[ 1.  1.]\n",
      " [ 1.  1.]\n",
      " [ 1.  1.]]\n"
     ]
    }
   ],
   "source": [
    "print(np.ones([3,2]))"
   ]
  },
  {
   "cell_type": "code",
   "execution_count": 6,
   "metadata": {},
   "outputs": [
    {
     "name": "stdout",
     "output_type": "stream",
     "text": [
      "[[ 1.  1.  1.  1.]\n",
      " [ 1.  1.  1.  1.]]\n"
     ]
    }
   ],
   "source": [
    "ones = np.ones([2,4], dtype=np.float64)\n",
    "print(ones)"
   ]
  },
  {
   "cell_type": "code",
   "execution_count": 7,
   "metadata": {},
   "outputs": [
    {
     "name": "stdout",
     "output_type": "stream",
     "text": [
      "[[ 1.  1.  1.  1.]\n",
      " [ 1.  1.  1.  1.]]\n"
     ]
    }
   ],
   "source": [
    "empty = np.empty([2,4],dtype=np.float64)\n",
    "print(empty)"
   ]
  },
  {
   "cell_type": "code",
   "execution_count": 8,
   "metadata": {},
   "outputs": [
    {
     "name": "stdout",
     "output_type": "stream",
     "text": [
      "(2, 4)\n"
     ]
    }
   ],
   "source": [
    "ones = np.ones([2,4], dtype=np.float64)\n",
    "print(ones.shape)"
   ]
  },
  {
   "cell_type": "code",
   "execution_count": 9,
   "metadata": {},
   "outputs": [
    {
     "name": "stdout",
     "output_type": "stream",
     "text": [
      "2\n"
     ]
    }
   ],
   "source": [
    "ones = np.ones([2,4], dtype=np.float64)\n",
    "print(ones.ndim)"
   ]
  },
  {
   "cell_type": "code",
   "execution_count": 10,
   "metadata": {},
   "outputs": [
    {
     "name": "stdout",
     "output_type": "stream",
     "text": [
      "float64\n"
     ]
    }
   ],
   "source": [
    "ones = np.ones([2,4], dtype=np.float64)\n",
    "print(ones.dtype)"
   ]
  },
  {
   "cell_type": "code",
   "execution_count": 11,
   "metadata": {},
   "outputs": [
    {
     "name": "stdout",
     "output_type": "stream",
     "text": [
      "[[ 1.  0.  0.]\n",
      " [ 0.  1.  0.]\n",
      " [ 0.  0.  1.]]\n"
     ]
    }
   ],
   "source": [
    "eye = np.eye(3, k=0)\n",
    "print(eye)"
   ]
  },
  {
   "cell_type": "code",
   "execution_count": 12,
   "metadata": {},
   "outputs": [
    {
     "name": "stdout",
     "output_type": "stream",
     "text": [
      "[[ 1.  0.  0.  0.  0.]\n",
      " [ 0.  1.  0.  0.  0.]\n",
      " [ 0.  0.  1.  0.  0.]\n",
      " [ 0.  0.  0.  1.  0.]\n",
      " [ 0.  0.  0.  0.  1.]]\n"
     ]
    }
   ],
   "source": [
    "print(np.eye(5, k=0))"
   ]
  },
  {
   "cell_type": "code",
   "execution_count": 13,
   "metadata": {
    "collapsed": true
   },
   "outputs": [],
   "source": [
    "test_array = [[1,1,1,1],\n",
    "              [1,1,1,1]]"
   ]
  },
  {
   "cell_type": "code",
   "execution_count": 14,
   "metadata": {},
   "outputs": [
    {
     "name": "stdout",
     "output_type": "stream",
     "text": [
      "[[1, 1, 1, 1], [1, 1, 1, 1]]\n"
     ]
    }
   ],
   "source": [
    "print(test_array)"
   ]
  },
  {
   "cell_type": "code",
   "execution_count": 15,
   "metadata": {},
   "outputs": [
    {
     "data": {
      "text/plain": [
       "2"
      ]
     },
     "execution_count": 15,
     "metadata": {},
     "output_type": "execute_result"
    }
   ],
   "source": [
    "np.ndim(test_array)"
   ]
  },
  {
   "cell_type": "code",
   "execution_count": 16,
   "metadata": {},
   "outputs": [
    {
     "data": {
      "text/plain": [
       "(2, 4)"
      ]
     },
     "execution_count": 16,
     "metadata": {},
     "output_type": "execute_result"
    }
   ],
   "source": [
    "np.shape(test_array)"
   ]
  },
  {
   "cell_type": "code",
   "execution_count": 17,
   "metadata": {
    "collapsed": true,
    "scrolled": true
   },
   "outputs": [],
   "source": [
    "inflation = pd.Series((2.2,3.4,2.8,1.6,2.3,2.7,3.4,3.2,2.8,3.8,-0.4,1.6,3.2,2.1,1.5,1.5))"
   ]
  },
  {
   "cell_type": "code",
   "execution_count": 18,
   "metadata": {},
   "outputs": [
    {
     "name": "stdout",
     "output_type": "stream",
     "text": [
      "0     2.2\n",
      "1     3.4\n",
      "2     2.8\n",
      "3     1.6\n",
      "4     2.3\n",
      "5     2.7\n",
      "6     3.4\n",
      "7     3.2\n",
      "8     2.8\n",
      "9     3.8\n",
      "10   -0.4\n",
      "11    1.6\n",
      "12    3.2\n",
      "13    2.1\n",
      "14    1.5\n",
      "15    1.5\n",
      "dtype: float64\n"
     ]
    }
   ],
   "source": [
    "print(inflation)"
   ]
  },
  {
   "cell_type": "code",
   "execution_count": 19,
   "metadata": {},
   "outputs": [
    {
     "data": {
      "text/plain": [
       "16"
      ]
     },
     "execution_count": 19,
     "metadata": {},
     "output_type": "execute_result"
    }
   ],
   "source": [
    "len(inflation)"
   ]
  },
  {
   "cell_type": "code",
   "execution_count": 20,
   "metadata": {},
   "outputs": [
    {
     "data": {
      "text/plain": [
       "array([ 2.2,  3.4,  2.8,  1.6,  2.3,  2.7,  3.4,  3.2,  2.8,  3.8, -0.4,\n",
       "        1.6,  3.2,  2.1,  1.5,  1.5])"
      ]
     },
     "execution_count": 20,
     "metadata": {},
     "output_type": "execute_result"
    }
   ],
   "source": [
    "inflation.values"
   ]
  },
  {
   "cell_type": "code",
   "execution_count": 21,
   "metadata": {},
   "outputs": [
    {
     "data": {
      "text/plain": [
       "RangeIndex(start=0, stop=16, step=1)"
      ]
     },
     "execution_count": 21,
     "metadata": {},
     "output_type": "execute_result"
    }
   ],
   "source": [
    "inflation.index"
   ]
  },
  {
   "cell_type": "code",
   "execution_count": 22,
   "metadata": {},
   "outputs": [
    {
     "data": {
      "text/plain": [
       "1.5"
      ]
     },
     "execution_count": 22,
     "metadata": {},
     "output_type": "execute_result"
    }
   ],
   "source": [
    "inflation.values[-1]"
   ]
  },
  {
   "cell_type": "code",
   "execution_count": 23,
   "metadata": {},
   "outputs": [],
   "source": [
    "inflation.index = pd.Index(range(1999,2015))"
   ]
  },
  {
   "cell_type": "code",
   "execution_count": 24,
   "metadata": {
    "scrolled": true
   },
   "outputs": [
    {
     "name": "stdout",
     "output_type": "stream",
     "text": [
      "1999    2.2\n",
      "2000    3.4\n",
      "2001    2.8\n",
      "2002    1.6\n",
      "2003    2.3\n",
      "2004    2.7\n",
      "2005    3.4\n",
      "2006    3.2\n",
      "2007    2.8\n",
      "2008    3.8\n",
      "2009   -0.4\n",
      "2010    1.6\n",
      "2011    3.2\n",
      "2012    2.1\n",
      "2013    1.5\n",
      "2014    1.5\n",
      "dtype: float64\n"
     ]
    }
   ],
   "source": [
    "print(inflation)"
   ]
  },
  {
   "cell_type": "code",
   "execution_count": 25,
   "metadata": {
    "collapsed": true
   },
   "outputs": [],
   "source": [
    "inflation.index.name = \"Year\""
   ]
  },
  {
   "cell_type": "code",
   "execution_count": 26,
   "metadata": {
    "collapsed": true
   },
   "outputs": [],
   "source": [
    "inflation.name = \"inflation\""
   ]
  },
  {
   "cell_type": "code",
   "execution_count": 27,
   "metadata": {},
   "outputs": [
    {
     "name": "stdout",
     "output_type": "stream",
     "text": [
      "Year\n",
      "1999    2.2\n",
      "2000    3.4\n",
      "2001    2.8\n",
      "2002    1.6\n",
      "2003    2.3\n",
      "Name: inflation, dtype: float64\n"
     ]
    }
   ],
   "source": [
    "print(inflation.head())"
   ]
  },
  {
   "cell_type": "code",
   "execution_count": 28,
   "metadata": {},
   "outputs": [
    {
     "name": "stdout",
     "output_type": "stream",
     "text": [
      "16\n"
     ]
    }
   ],
   "source": [
    "print(len(inflation))"
   ]
  },
  {
   "cell_type": "code",
   "execution_count": 29,
   "metadata": {},
   "outputs": [],
   "source": [
    "#alcohol data\n",
    "alco2009 = pd.read_csv('C:/Users/Administrator/Desktop/Business Prog/biz_final/example_file/example1027/report2009.csv',index_col=\"State\")"
   ]
  },
  {
   "cell_type": "code",
   "execution_count": 30,
   "metadata": {},
   "outputs": [
    {
     "name": "stdout",
     "output_type": "stream",
     "text": [
      "                      Beer  Wine  Spirits  Total\n",
      "State                                           \n",
      "Alabama               1.20  0.22     0.58      0\n",
      "Alaska                1.31  0.54     1.16      0\n",
      "Arizona               1.19  0.38     0.74      0\n",
      "Arkansas              1.07  0.17     0.60      0\n",
      "California            1.05  0.55     0.73      0\n",
      "Colorado              1.22  0.46     1.00      0\n",
      "Connecticut           0.89  0.59     0.86      0\n",
      "Delaware              1.31  0.57     1.25      0\n",
      "District of Columbia  1.26  1.00     1.64      0\n",
      "Florida               1.21  0.48     0.92      0\n",
      "Georgia               1.08  0.25     0.64      0\n",
      "Hawaii                1.30  0.53     0.75      0\n",
      "Idaho                 1.05  0.92     0.70      0\n",
      "Illinois              1.22  0.39     0.73      0\n",
      "Indiana               1.09  0.25     0.73      0\n",
      "Iowa                  1.42  0.18     0.72      0\n",
      "Kansas                1.18  0.14     0.67      0\n",
      "Kentucky              1.11  0.18     0.65      0\n",
      "Louisiana             1.50  0.28     0.85      0\n",
      "Maine                 1.24  0.42     0.83      0\n",
      "Maryland              0.97  0.37     0.87      0\n",
      "Massachusetts         1.02  0.61     0.84      0\n",
      "Michigan              1.10  0.31     0.80      0\n",
      "Minnesota             1.19  0.37     1.04      0\n",
      "Mississippi           1.41  0.11     0.71      0\n",
      "Missouri              1.30  0.30     0.83      0\n",
      "Montana               1.66  0.45     0.88      0\n",
      "Nebraska              1.46  0.20     0.68      0\n",
      "Nevada                1.57  0.58     1.15      0\n",
      "New Hampshire         1.72  0.84     1.82      0\n",
      "New Jersey            0.92  0.57     0.87      0\n",
      "New Mexico            1.37  0.32     0.74      0\n",
      "New York              0.91  0.46     0.69      0\n",
      "North Carolina        1.10  0.34     0.58      0\n",
      "North Dakota          1.63  0.25     1.16      0\n",
      "Ohio                  1.28  0.26     0.47      0\n",
      "Oklahoma              1.18  0.18     0.58      0\n",
      "Oregon                1.28  0.49     0.82      0\n",
      "Pennsylvania          1.35  0.23     0.61      0\n",
      "Rhode Island          1.10  0.53     0.92      0\n",
      "South Carolina        1.36  0.24     0.77      0\n",
      "South Dakota          1.53  0.22     0.88      0\n",
      "Tennessee             1.05  0.21     0.57      0\n",
      "Texas                 1.42  0.28     0.58      0\n",
      "Utah                  0.70  0.17     0.46      0\n",
      "Vermont               1.36  0.63     0.70      0\n",
      "Virginia              1.11  0.43     0.59      0\n",
      "Washington            1.09  0.51     0.74      0\n",
      "West Virginia         1.24  0.10     0.45      0\n",
      "Wisconsin             1.49  0.31     1.16      0\n",
      "Wyoming               1.45  0.22     1.10      0\n"
     ]
    }
   ],
   "source": [
    "alco2009[\"Total\"] = 0\n",
    "print(alco2009)\n"
   ]
  },
  {
   "cell_type": "code",
   "execution_count": 31,
   "metadata": {},
   "outputs": [
    {
     "data": {
      "text/plain": [
       "array(['Beer', 'Wine', 'Spirits', 'Total'], dtype=object)"
      ]
     },
     "execution_count": 31,
     "metadata": {},
     "output_type": "execute_result"
    }
   ],
   "source": [
    "alco2009.columns.values"
   ]
  },
  {
   "cell_type": "code",
   "execution_count": 32,
   "metadata": {},
   "outputs": [
    {
     "data": {
      "text/plain": [
       "array(['Alabama', 'Alaska', 'Arizona', 'Arkansas', 'California',\n",
       "       'Colorado', 'Connecticut', 'Delaware', 'District of Columbia',\n",
       "       'Florida', 'Georgia', 'Hawaii', 'Idaho', 'Illinois', 'Indiana',\n",
       "       'Iowa', 'Kansas', 'Kentucky', 'Louisiana', 'Maine', 'Maryland',\n",
       "       'Massachusetts', 'Michigan', 'Minnesota', 'Mississippi', 'Missouri',\n",
       "       'Montana', 'Nebraska', 'Nevada', 'New Hampshire', 'New Jersey',\n",
       "       'New Mexico', 'New York', 'North Carolina', 'North Dakota', 'Ohio',\n",
       "       'Oklahoma', 'Oregon', 'Pennsylvania', 'Rhode Island',\n",
       "       'South Carolina', 'South Dakota', 'Tennessee', 'Texas', 'Utah',\n",
       "       'Vermont', 'Virginia', 'Washington', 'West Virginia', 'Wisconsin',\n",
       "       'Wyoming'], dtype=object)"
      ]
     },
     "execution_count": 32,
     "metadata": {},
     "output_type": "execute_result"
    }
   ],
   "source": [
    "alco2009.index.values"
   ]
  },
  {
   "cell_type": "code",
   "execution_count": 33,
   "metadata": {},
   "outputs": [
    {
     "name": "stdout",
     "output_type": "stream",
     "text": [
      "           State  Wine  Spirits  Total\n",
      "Beer                                  \n",
      "1.20     Alabama  0.22     0.58      0\n",
      "1.31      Alaska  0.54     1.16      0\n",
      "1.19     Arizona  0.38     0.74      0\n",
      "1.07    Arkansas  0.17     0.60      0\n",
      "1.05  California  0.55     0.73      0\n"
     ]
    }
   ],
   "source": [
    "print(alco2009.reset_index().set_index('Beer').head())"
   ]
  },
  {
   "cell_type": "code",
   "execution_count": 34,
   "metadata": {},
   "outputs": [
    {
     "data": {
      "text/html": [
       "<div>\n",
       "<style>\n",
       "    .dataframe thead tr:only-child th {\n",
       "        text-align: right;\n",
       "    }\n",
       "\n",
       "    .dataframe thead th {\n",
       "        text-align: left;\n",
       "    }\n",
       "\n",
       "    .dataframe tbody tr th {\n",
       "        vertical-align: top;\n",
       "    }\n",
       "</style>\n",
       "<table border=\"1\" class=\"dataframe\">\n",
       "  <thead>\n",
       "    <tr style=\"text-align: right;\">\n",
       "      <th></th>\n",
       "      <th>State</th>\n",
       "      <th>Wine</th>\n",
       "      <th>Spirits</th>\n",
       "      <th>Total</th>\n",
       "    </tr>\n",
       "    <tr>\n",
       "      <th>Beer</th>\n",
       "      <th></th>\n",
       "      <th></th>\n",
       "      <th></th>\n",
       "      <th></th>\n",
       "    </tr>\n",
       "  </thead>\n",
       "  <tbody>\n",
       "    <tr>\n",
       "      <th>1.20</th>\n",
       "      <td>Alabama</td>\n",
       "      <td>0.22</td>\n",
       "      <td>0.58</td>\n",
       "      <td>0</td>\n",
       "    </tr>\n",
       "    <tr>\n",
       "      <th>1.31</th>\n",
       "      <td>Alaska</td>\n",
       "      <td>0.54</td>\n",
       "      <td>1.16</td>\n",
       "      <td>0</td>\n",
       "    </tr>\n",
       "    <tr>\n",
       "      <th>1.19</th>\n",
       "      <td>Arizona</td>\n",
       "      <td>0.38</td>\n",
       "      <td>0.74</td>\n",
       "      <td>0</td>\n",
       "    </tr>\n",
       "    <tr>\n",
       "      <th>1.07</th>\n",
       "      <td>Arkansas</td>\n",
       "      <td>0.17</td>\n",
       "      <td>0.60</td>\n",
       "      <td>0</td>\n",
       "    </tr>\n",
       "    <tr>\n",
       "      <th>1.05</th>\n",
       "      <td>California</td>\n",
       "      <td>0.55</td>\n",
       "      <td>0.73</td>\n",
       "      <td>0</td>\n",
       "    </tr>\n",
       "  </tbody>\n",
       "</table>\n",
       "</div>"
      ],
      "text/plain": [
       "           State  Wine  Spirits  Total\n",
       "Beer                                  \n",
       "1.20     Alabama  0.22     0.58      0\n",
       "1.31      Alaska  0.54     1.16      0\n",
       "1.19     Arizona  0.38     0.74      0\n",
       "1.07    Arkansas  0.17     0.60      0\n",
       "1.05  California  0.55     0.73      0"
      ]
     },
     "execution_count": 34,
     "metadata": {},
     "output_type": "execute_result"
    }
   ],
   "source": [
    "alco2009.reset_index().set_index('Beer').head()"
   ]
  },
  {
   "cell_type": "code",
   "execution_count": 35,
   "metadata": {},
   "outputs": [
    {
     "name": "stdout",
     "output_type": "stream",
     "text": [
      "Beer       1.46\n",
      "Wine       0.20\n",
      "Spirits    0.68\n",
      "Total      0.00\n",
      "Name: Nebraska, dtype: float64\n"
     ]
    },
    {
     "name": "stderr",
     "output_type": "stream",
     "text": [
      "c:\\program files\\anaconda3\\lib\\site-packages\\ipykernel\\__main__.py:1: DeprecationWarning: \n",
      ".ix is deprecated. Please use\n",
      ".loc for label based indexing or\n",
      ".iloc for positional indexing\n",
      "\n",
      "See the documentation here:\n",
      "http://pandas.pydata.org/pandas-docs/stable/indexing.html#ix-indexer-is-deprecated\n",
      "  if __name__ == '__main__':\n"
     ]
    }
   ],
   "source": [
    "print(alco2009.ix[\"Nebraska\"])"
   ]
  },
  {
   "cell_type": "code",
   "execution_count": 36,
   "metadata": {},
   "outputs": [
    {
     "name": "stdout",
     "output_type": "stream",
     "text": [
      "False\n"
     ]
    }
   ],
   "source": [
    "print(\"Samoa\" in alco2009.index)"
   ]
  },
  {
   "cell_type": "code",
   "execution_count": 37,
   "metadata": {
    "collapsed": true
   },
   "outputs": [],
   "source": [
    "#re-indexing\n",
    "s_states = [state for state in alco2009.index if state[0] == \"S\"] + [\"Samoa\"]"
   ]
  },
  {
   "cell_type": "code",
   "execution_count": 38,
   "metadata": {
    "collapsed": true
   },
   "outputs": [],
   "source": [
    "drinks = list(alco2009.columns)+[\"Water\"]"
   ]
  },
  {
   "cell_type": "code",
   "execution_count": 39,
   "metadata": {
    "collapsed": true
   },
   "outputs": [],
   "source": [
    "nan_alco = alco2009.reindex(s_states, columns = drinks)"
   ]
  },
  {
   "cell_type": "code",
   "execution_count": 40,
   "metadata": {},
   "outputs": [
    {
     "name": "stdout",
     "output_type": "stream",
     "text": [
      "                Beer  Wine  Spirits  Total  Water\n",
      "State                                            \n",
      "South Carolina  1.36  0.24     0.77    0.0    NaN\n",
      "South Dakota    1.53  0.22     0.88    0.0    NaN\n",
      "Samoa            NaN   NaN      NaN    NaN    NaN\n"
     ]
    }
   ],
   "source": [
    "print(nan_alco)"
   ]
  },
  {
   "cell_type": "code",
   "execution_count": 41,
   "metadata": {},
   "outputs": [],
   "source": [
    "#hierarchical indexing\n",
    "alco = pd.read_csv(\"C:/Users/Administrator/Desktop/Business Prog/biz_final/example_file/example1027/report.csv\", index_col = [\"State\", \"Year\"])"
   ]
  },
  {
   "cell_type": "code",
   "execution_count": 42,
   "metadata": {},
   "outputs": [
    {
     "name": "stdout",
     "output_type": "stream",
     "text": [
      "              Beer  Wine  Spirits\n",
      "State   Year                     \n",
      "Alabama 1977  0.99  0.13     0.84\n",
      "        1978  0.98  0.12     0.88\n",
      "        1979  0.98  0.12     0.84\n",
      "        1980  0.96  0.16     0.74\n",
      "        1981  1.00  0.19     0.73\n",
      "        1982  1.00  0.18     0.72\n",
      "        1983  1.01  0.17     0.71\n",
      "        1984  1.02  0.19     0.69\n",
      "        1985  1.06  0.17     0.67\n",
      "        1986  1.09  0.18     0.64\n"
     ]
    }
   ],
   "source": [
    "print(alco.head(10))"
   ]
  },
  {
   "cell_type": "code",
   "execution_count": 43,
   "metadata": {},
   "outputs": [
    {
     "data": {
      "text/html": [
       "<div>\n",
       "<style>\n",
       "    .dataframe thead tr:only-child th {\n",
       "        text-align: right;\n",
       "    }\n",
       "\n",
       "    .dataframe thead th {\n",
       "        text-align: left;\n",
       "    }\n",
       "\n",
       "    .dataframe tbody tr th {\n",
       "        vertical-align: top;\n",
       "    }\n",
       "</style>\n",
       "<table border=\"1\" class=\"dataframe\">\n",
       "  <thead>\n",
       "    <tr style=\"text-align: right;\">\n",
       "      <th></th>\n",
       "      <th></th>\n",
       "      <th>Beer</th>\n",
       "      <th>Wine</th>\n",
       "      <th>Spirits</th>\n",
       "    </tr>\n",
       "    <tr>\n",
       "      <th>State</th>\n",
       "      <th>Year</th>\n",
       "      <th></th>\n",
       "      <th></th>\n",
       "      <th></th>\n",
       "    </tr>\n",
       "  </thead>\n",
       "  <tbody>\n",
       "    <tr>\n",
       "      <th rowspan=\"5\" valign=\"top\">Alabama</th>\n",
       "      <th>1977</th>\n",
       "      <td>0.99</td>\n",
       "      <td>0.13</td>\n",
       "      <td>0.84</td>\n",
       "    </tr>\n",
       "    <tr>\n",
       "      <th>1978</th>\n",
       "      <td>0.98</td>\n",
       "      <td>0.12</td>\n",
       "      <td>0.88</td>\n",
       "    </tr>\n",
       "    <tr>\n",
       "      <th>1979</th>\n",
       "      <td>0.98</td>\n",
       "      <td>0.12</td>\n",
       "      <td>0.84</td>\n",
       "    </tr>\n",
       "    <tr>\n",
       "      <th>1980</th>\n",
       "      <td>0.96</td>\n",
       "      <td>0.16</td>\n",
       "      <td>0.74</td>\n",
       "    </tr>\n",
       "    <tr>\n",
       "      <th>1981</th>\n",
       "      <td>1.00</td>\n",
       "      <td>0.19</td>\n",
       "      <td>0.73</td>\n",
       "    </tr>\n",
       "  </tbody>\n",
       "</table>\n",
       "</div>"
      ],
      "text/plain": [
       "              Beer  Wine  Spirits\n",
       "State   Year                     \n",
       "Alabama 1977  0.99  0.13     0.84\n",
       "        1978  0.98  0.12     0.88\n",
       "        1979  0.98  0.12     0.84\n",
       "        1980  0.96  0.16     0.74\n",
       "        1981  1.00  0.19     0.73"
      ]
     },
     "execution_count": 43,
     "metadata": {},
     "output_type": "execute_result"
    }
   ],
   "source": [
    "#stacking\n",
    "alco.head()"
   ]
  },
  {
   "cell_type": "code",
   "execution_count": 44,
   "metadata": {
    "collapsed": true
   },
   "outputs": [],
   "source": [
    "tall_alco = alco.stack()"
   ]
  },
  {
   "cell_type": "code",
   "execution_count": 45,
   "metadata": {},
   "outputs": [
    {
     "data": {
      "text/plain": [
       "State    Year         \n",
       "Alabama  1977  Beer       0.99\n",
       "               Wine       0.13\n",
       "               Spirits    0.84\n",
       "         1978  Beer       0.98\n",
       "               Wine       0.12\n",
       "               Spirits    0.88\n",
       "         1979  Beer       0.98\n",
       "               Wine       0.12\n",
       "               Spirits    0.84\n",
       "         1980  Beer       0.96\n",
       "               Wine       0.16\n",
       "               Spirits    0.74\n",
       "         1981  Beer       1.00\n",
       "               Wine       0.19\n",
       "               Spirits    0.73\n",
       "         1982  Beer       1.00\n",
       "               Wine       0.18\n",
       "               Spirits    0.72\n",
       "         1983  Beer       1.01\n",
       "               Wine       0.17\n",
       "               Spirits    0.71\n",
       "         1984  Beer       1.02\n",
       "               Wine       0.19\n",
       "               Spirits    0.69\n",
       "         1985  Beer       1.06\n",
       "               Wine       0.17\n",
       "               Spirits    0.67\n",
       "         1986  Beer       1.09\n",
       "               Wine       0.18\n",
       "               Spirits    0.64\n",
       "                          ... \n",
       "Wyoming  2000  Beer       1.42\n",
       "               Wine       0.18\n",
       "               Spirits    0.86\n",
       "         2001  Beer       1.43\n",
       "               Wine       0.22\n",
       "               Spirits    0.88\n",
       "         2002  Beer       1.46\n",
       "               Wine       0.22\n",
       "               Spirits    0.88\n",
       "         2003  Beer       1.69\n",
       "               Wine       0.23\n",
       "               Spirits    0.90\n",
       "         2004  Beer       1.41\n",
       "               Wine       0.22\n",
       "               Spirits    0.92\n",
       "         2005  Beer       1.21\n",
       "               Wine       0.23\n",
       "               Spirits    0.97\n",
       "         2006  Beer       1.47\n",
       "               Wine       0.23\n",
       "               Spirits    1.05\n",
       "         2007  Beer       1.49\n",
       "               Wine       0.23\n",
       "               Spirits    1.10\n",
       "         2008  Beer       1.54\n",
       "               Wine       0.23\n",
       "               Spirits    1.12\n",
       "         2009  Beer       1.45\n",
       "               Wine       0.22\n",
       "               Spirits    1.10\n",
       "Length: 5049, dtype: float64"
      ]
     },
     "execution_count": 45,
     "metadata": {},
     "output_type": "execute_result"
    }
   ],
   "source": [
    "tall_alco"
   ]
  },
  {
   "cell_type": "code",
   "execution_count": 46,
   "metadata": {},
   "outputs": [],
   "source": [
    "tall_alco.index.names = ['State','Year','Drink']"
   ]
  },
  {
   "cell_type": "code",
   "execution_count": 47,
   "metadata": {},
   "outputs": [
    {
     "name": "stdout",
     "output_type": "stream",
     "text": [
      "State    Year  Drink  \n",
      "Alabama  1977  Beer       0.99\n",
      "               Wine       0.13\n",
      "               Spirits    0.84\n",
      "         1978  Beer       0.98\n",
      "               Wine       0.12\n",
      "               Spirits    0.88\n",
      "         1979  Beer       0.98\n",
      "               Wine       0.12\n",
      "               Spirits    0.84\n",
      "         1980  Beer       0.96\n",
      "dtype: float64\n"
     ]
    }
   ],
   "source": [
    "print(tall_alco.head(10))"
   ]
  },
  {
   "cell_type": "code",
   "execution_count": 48,
   "metadata": {},
   "outputs": [
    {
     "name": "stdout",
     "output_type": "stream",
     "text": [
      "State  Alabama  Alaska  Arizona  Arkansas  California  Colorado  Connecticut  \\\n",
      "Year                                                                           \n",
      "1977      0.13    0.42     0.34      0.10        0.67      0.36         0.35   \n",
      "1978      0.12    0.45     0.37      0.11        0.68      0.47         0.38   \n",
      "1979      0.12    0.47     0.39      0.10        0.70      0.47         0.40   \n",
      "1980      0.16    0.50     0.36      0.12        0.71      0.47         0.43   \n",
      "1981      0.19    0.57     0.42      0.12        0.72      0.44         0.44   \n",
      "1982      0.18    0.56     0.40      0.12        0.72      0.46         0.49   \n",
      "1983      0.17    0.61     0.44      0.13        0.75      0.46         0.49   \n",
      "1984      0.19    0.58     0.45      0.12        0.74      0.46         0.50   \n",
      "1985      0.17    0.58     0.46      0.13        0.78      0.50         0.50   \n",
      "1986      0.18    0.56     0.46      0.09        0.79      0.46         0.51   \n",
      "1987      0.18    0.54     0.46      0.11        0.74      0.44         0.52   \n",
      "1988      0.18    0.49     0.42      0.14        0.68      0.39         0.51   \n",
      "1989      0.17    0.46     0.36      0.13        0.61      0.37         0.47   \n",
      "1990      0.18    0.46     0.37      0.13        0.59      0.29         0.45   \n",
      "1991      0.17    0.43     0.35      0.11        0.49      0.35         0.43   \n",
      "1992      0.19    0.41     0.31      0.12        0.51      0.36         0.45   \n",
      "1993      0.17    0.32     0.27      0.11        0.48      0.36         0.44   \n",
      "1994      0.17    0.40     0.29      0.13        0.47      0.35         0.43   \n",
      "1995      0.15    0.39     0.29      0.12        0.45      0.35         0.49   \n",
      "1996      0.15    0.38     0.33      0.12        0.49      0.37         0.46   \n",
      "1997      0.15    0.36     0.31      0.12        0.50      0.37         0.48   \n",
      "1998      0.17    0.39     0.32      0.11        0.45      0.37         0.48   \n",
      "1999      0.17    0.40     0.34      0.12        0.46      0.37         0.49   \n",
      "2000      0.18    0.37     0.31      0.12        0.48      0.37         0.49   \n",
      "2001      0.17    0.40     0.33      0.13        0.48      0.41         0.50   \n",
      "2002      0.21    0.43     0.33      0.14        0.49      0.39         0.50   \n",
      "2003      0.19    0.37     0.37      0.14        0.50      0.40         0.52   \n",
      "2004      0.20    0.45     0.33      0.15        0.51      0.43         0.53   \n",
      "2005      0.20    0.43     0.39      0.16        0.53      0.41         0.54   \n",
      "2006      0.21    0.46     0.37      0.17        0.54      0.45         0.55   \n",
      "2007      0.22    0.44     0.33      0.17        0.55      0.47         0.58   \n",
      "2008      0.22    0.49     0.40      0.17        0.55      0.46         0.59   \n",
      "2009      0.22    0.54     0.38      0.17        0.55      0.46         0.59   \n",
      "\n",
      "State  Delaware  District of Columbia  Florida   ...     South Dakota  \\\n",
      "Year                                             ...                    \n",
      "1977       0.24                  0.89     0.33   ...             0.17   \n",
      "1978       0.25                  0.94     0.34   ...             0.17   \n",
      "1979       0.27                  0.99     0.37   ...             0.17   \n",
      "1980       0.29                  0.99     0.37   ...             0.18   \n",
      "1981       0.32                  1.06     0.39   ...             0.19   \n",
      "1982       0.34                  1.00     0.40   ...             0.18   \n",
      "1983       0.35                  1.08     0.40   ...             0.17   \n",
      "1984       0.38                  1.11     0.40   ...             0.17   \n",
      "1985       0.41                  1.03     0.41   ...             0.18   \n",
      "1986       0.44                  1.04     0.41   ...             0.19   \n",
      "1987       0.42                  1.00     0.42   ...             0.19   \n",
      "1988       0.40                  0.99     0.41   ...             0.16   \n",
      "1989       0.38                  0.88     0.39   ...             0.15   \n",
      "1990       0.37                  0.76     0.39   ...             0.18   \n",
      "1991       0.35                  0.61     0.34   ...             0.15   \n",
      "1992       0.36                  0.70     0.34   ...             0.15   \n",
      "1993       0.35                  0.73     0.33   ...             0.12   \n",
      "1994       0.38                  0.74     0.33   ...             0.12   \n",
      "1995       0.40                  0.72     0.35   ...             0.12   \n",
      "1996       0.45                  0.74     0.37   ...             0.13   \n",
      "1997       0.46                  0.74     0.37   ...             0.13   \n",
      "1998       0.47                  0.73     0.38   ...             0.13   \n",
      "1999       0.48                  0.73     0.40   ...             0.14   \n",
      "2000       0.48                  0.70     0.40   ...             0.15   \n",
      "2001       0.49                  0.82     0.40   ...             0.15   \n",
      "2002       0.52                  0.84     0.43   ...             0.16   \n",
      "2003       0.56                  0.90     0.44   ...             0.16   \n",
      "2004       0.57                  0.94     0.46   ...             0.18   \n",
      "2005       0.59                  0.92     0.47   ...             0.19   \n",
      "2006       0.60                  0.95     0.48   ...             0.19   \n",
      "2007       0.59                  0.99     0.49   ...             0.22   \n",
      "2008       0.58                  1.00     0.49   ...             0.22   \n",
      "2009       0.57                  1.00     0.48   ...             0.22   \n",
      "\n",
      "State  Tennessee  Texas  Utah  Vermont  Virginia  Washington  West Virginia  \\\n",
      "Year                                                                          \n",
      "1977        0.10   0.14  0.14     0.44      0.21        0.45           0.09   \n",
      "1978        0.11   0.14  0.15     0.47      0.21        0.48           0.09   \n",
      "1979        0.11   0.14  0.16     0.47      0.25        0.48           0.09   \n",
      "1980        0.12   0.22  0.14     0.48      0.25        0.52           0.09   \n",
      "1981        0.13   0.24  0.15     0.50      0.27        0.54           0.14   \n",
      "1982        0.14   0.18  0.15     0.50      0.27        0.53           0.14   \n",
      "1983        0.14   0.27  0.14     0.50      0.27        0.54           0.13   \n",
      "1984        0.15   0.28  0.14     0.49      0.29        0.57           0.12   \n",
      "1985        0.16   0.30  0.15     0.55      0.30        0.59           0.13   \n",
      "1986        0.16   0.31  0.17     0.59      0.27        0.61           0.13   \n",
      "1987        0.15   0.29  0.15     0.58      0.26        0.56           0.13   \n",
      "1988        0.14   0.28  0.14     0.56      0.25        0.50           0.12   \n",
      "1989        0.14   0.26  0.13     0.51      0.31        0.47           0.11   \n",
      "1990        0.14   0.26  0.12     0.48      0.30        0.46           0.10   \n",
      "1991        0.13   0.25  0.12     0.46      0.28        0.43           0.09   \n",
      "1992        0.14   0.24  0.12     0.44      0.28        0.46           0.09   \n",
      "1993        0.14   0.20  0.11     0.44      0.27        0.39           0.08   \n",
      "1994        0.15   0.20  0.09     0.42      0.27        0.39           0.08   \n",
      "1995        0.15   0.19  0.09     0.41      0.29        0.40           0.09   \n",
      "1996        0.15   0.22  0.10     0.46      0.30        0.40           0.10   \n",
      "1997        0.16   0.20  0.10     0.46      0.29        0.42           0.10   \n",
      "1998        0.15   0.23  0.10     0.47      0.29        0.43           0.10   \n",
      "1999        0.15   0.20  0.10     0.47      0.32        0.40           0.10   \n",
      "2000        0.15   0.22  0.11     0.47      0.31        0.41           0.10   \n",
      "2001        0.16   0.21  0.14     0.47      0.32        0.40           0.10   \n",
      "2002        0.17   0.22  0.14     0.49      0.34        0.42           0.10   \n",
      "2003        0.18   0.23  0.15     0.51      0.36        0.46           0.10   \n",
      "2004        0.18   0.24  0.15     0.54      0.37        0.46           0.10   \n",
      "2005        0.19   0.25  0.16     0.56      0.38        0.55           0.10   \n",
      "2006        0.19   0.26  0.16     0.58      0.39        0.48           0.10   \n",
      "2007        0.20   0.27  0.16     0.61      0.41        0.50           0.10   \n",
      "2008        0.20   0.27  0.17     0.62      0.42        0.50           0.10   \n",
      "2009        0.21   0.28  0.17     0.63      0.43        0.51           0.10   \n",
      "\n",
      "State  Wisconsin  Wyoming  \n",
      "Year                       \n",
      "1977        0.27     0.21  \n",
      "1978        0.28     0.22  \n",
      "1979        0.28     0.22  \n",
      "1980        0.31     0.24  \n",
      "1981        0.31     0.24  \n",
      "1982        0.30     0.24  \n",
      "1983        0.33     0.22  \n",
      "1984        0.30     0.22  \n",
      "1985        0.32     0.25  \n",
      "1986        0.34     0.26  \n",
      "1987        0.36     0.24  \n",
      "1988        0.33     0.23  \n",
      "1989        0.31     0.22  \n",
      "1990        0.31     0.22  \n",
      "1991        0.27     0.20  \n",
      "1992        0.25     0.20  \n",
      "1993        0.22     0.19  \n",
      "1994        0.22     0.18  \n",
      "1995        0.23     0.16  \n",
      "1996        0.24     0.16  \n",
      "1997        0.25     0.17  \n",
      "1998        0.26     0.20  \n",
      "1999        0.26     0.18  \n",
      "2000        0.27     0.18  \n",
      "2001        0.26     0.22  \n",
      "2002        0.28     0.22  \n",
      "2003        0.29     0.23  \n",
      "2004        0.30     0.22  \n",
      "2005        0.31     0.23  \n",
      "2006        0.32     0.23  \n",
      "2007        0.33     0.23  \n",
      "2008        0.34     0.23  \n",
      "2009        0.31     0.22  \n",
      "\n",
      "[33 rows x 51 columns]\n"
     ]
    }
   ],
   "source": [
    "#pivoting\n",
    "alco = pd.read_csv(\"C:/Users/Administrator/Desktop/Business Prog/biz_final/example_file/example1027/report.csv\")\n",
    "print(alco.pivot(\"Year\",\"State\",\"Wine\"))"
   ]
  },
  {
   "cell_type": "markdown",
   "metadata": {},
   "source": [
    "### 1101 SQL"
   ]
  },
  {
   "cell_type": "markdown",
   "metadata": {},
   "source": [
    "+ 지난 시간 복습 .. SQL, create table, insert, select, update, delete, JOIN  "
   ]
  },
  {
   "cell_type": "code",
   "execution_count": null,
   "metadata": {
    "collapsed": true
   },
   "outputs": [],
   "source": []
  },
  {
   "cell_type": "markdown",
   "metadata": {},
   "source": [
    "### 1103 missing value"
   ]
  },
  {
   "cell_type": "code",
   "execution_count": 49,
   "metadata": {
    "collapsed": true
   },
   "outputs": [],
   "source": [
    "alco2009 = pd.read_csv(\"C:/Users/Administrator/Desktop/Business Prog/biz_final/example_file/example1027/report2009.csv\", \n",
    "                       index_col = \"State\")\n",
    "s_states = [state for state in alco2009.index if state[0] == \"S\"] + [\"Samoa\"]\n",
    "drinks = list(alco2009.columns)+[\"Water\"]\n",
    "nan_alco = alco2009.reindex(s_states, columns = drinks)"
   ]
  },
  {
   "cell_type": "code",
   "execution_count": 50,
   "metadata": {},
   "outputs": [
    {
     "data": {
      "text/plain": [
       "['South Carolina', 'South Dakota', 'Samoa']"
      ]
     },
     "execution_count": 50,
     "metadata": {},
     "output_type": "execute_result"
    }
   ],
   "source": [
    "s_states"
   ]
  },
  {
   "cell_type": "code",
   "execution_count": 51,
   "metadata": {},
   "outputs": [
    {
     "data": {
      "text/plain": [
       "['Beer', 'Wine', 'Spirits', 'Water']"
      ]
     },
     "execution_count": 51,
     "metadata": {},
     "output_type": "execute_result"
    }
   ],
   "source": [
    "drinks"
   ]
  },
  {
   "cell_type": "code",
   "execution_count": 52,
   "metadata": {},
   "outputs": [
    {
     "data": {
      "text/html": [
       "<div>\n",
       "<style>\n",
       "    .dataframe thead tr:only-child th {\n",
       "        text-align: right;\n",
       "    }\n",
       "\n",
       "    .dataframe thead th {\n",
       "        text-align: left;\n",
       "    }\n",
       "\n",
       "    .dataframe tbody tr th {\n",
       "        vertical-align: top;\n",
       "    }\n",
       "</style>\n",
       "<table border=\"1\" class=\"dataframe\">\n",
       "  <thead>\n",
       "    <tr style=\"text-align: right;\">\n",
       "      <th></th>\n",
       "      <th>Beer</th>\n",
       "      <th>Wine</th>\n",
       "      <th>Spirits</th>\n",
       "      <th>Water</th>\n",
       "    </tr>\n",
       "    <tr>\n",
       "      <th>State</th>\n",
       "      <th></th>\n",
       "      <th></th>\n",
       "      <th></th>\n",
       "      <th></th>\n",
       "    </tr>\n",
       "  </thead>\n",
       "  <tbody>\n",
       "    <tr>\n",
       "      <th>South Carolina</th>\n",
       "      <td>1.36</td>\n",
       "      <td>0.24</td>\n",
       "      <td>0.77</td>\n",
       "      <td>NaN</td>\n",
       "    </tr>\n",
       "    <tr>\n",
       "      <th>South Dakota</th>\n",
       "      <td>1.53</td>\n",
       "      <td>0.22</td>\n",
       "      <td>0.88</td>\n",
       "      <td>NaN</td>\n",
       "    </tr>\n",
       "    <tr>\n",
       "      <th>Samoa</th>\n",
       "      <td>NaN</td>\n",
       "      <td>NaN</td>\n",
       "      <td>NaN</td>\n",
       "      <td>NaN</td>\n",
       "    </tr>\n",
       "  </tbody>\n",
       "</table>\n",
       "</div>"
      ],
      "text/plain": [
       "                Beer  Wine  Spirits  Water\n",
       "State                                     \n",
       "South Carolina  1.36  0.24     0.77    NaN\n",
       "South Dakota    1.53  0.22     0.88    NaN\n",
       "Samoa            NaN   NaN      NaN    NaN"
      ]
     },
     "execution_count": 52,
     "metadata": {},
     "output_type": "execute_result"
    }
   ],
   "source": [
    "nan_alco"
   ]
  },
  {
   "cell_type": "code",
   "execution_count": 53,
   "metadata": {},
   "outputs": [
    {
     "name": "stdout",
     "output_type": "stream",
     "text": [
      "                Beer  Wine  Spirits  Water\n",
      "State                                     \n",
      "South Carolina  1.36  0.24     0.77    NaN\n",
      "South Dakota    1.53  0.22     0.88    NaN\n"
     ]
    }
   ],
   "source": [
    "##Deleting Missing values\n",
    "row_delete_nan_alco=nan_alco.dropna(how=\"all\")\n",
    "print(row_delete_nan_alco)"
   ]
  },
  {
   "cell_type": "code",
   "execution_count": 54,
   "metadata": {},
   "outputs": [
    {
     "name": "stdout",
     "output_type": "stream",
     "text": [
      "                Beer  Wine  Spirits  Water\n",
      "State                                     \n",
      "South Carolina  1.36  0.24     0.77    NaN\n",
      "South Dakota    1.53  0.22     0.88    NaN\n",
      "Samoa            NaN   NaN      NaN    NaN\n"
     ]
    }
   ],
   "source": [
    "print(nan_alco)"
   ]
  },
  {
   "cell_type": "code",
   "execution_count": 55,
   "metadata": {},
   "outputs": [
    {
     "name": "stdout",
     "output_type": "stream",
     "text": [
      "                Beer  Wine  Spirits\n",
      "State                              \n",
      "South Carolina  1.36  0.24     0.77\n",
      "South Dakota    1.53  0.22     0.88\n",
      "Samoa            NaN   NaN      NaN\n"
     ]
    }
   ],
   "source": [
    "col_delete_nan_alco=nan_alco.dropna(how=\"all\", axis=1)\n",
    "print(col_delete_nan_alco)"
   ]
  },
  {
   "cell_type": "code",
   "execution_count": 56,
   "metadata": {},
   "outputs": [
    {
     "name": "stdout",
     "output_type": "stream",
     "text": [
      "                      Beer  Wine  Spirits\n",
      "State                                    \n",
      "Alaska                1.31  0.54     1.16\n",
      "Arizona               1.19  0.38     0.74\n",
      "Arkansas              1.07  0.17     0.60\n",
      "California            1.05  0.55     0.73\n",
      "Colorado              1.22  0.46     1.00\n",
      "Connecticut           0.89  0.59     0.86\n",
      "Delaware              1.31  0.57     1.25\n",
      "District of Columbia  1.26  1.00     1.64\n",
      "Florida               1.21  0.48     0.92\n",
      "Georgia               1.08  0.25     0.64\n",
      "Hawaii                1.30  0.53     0.75\n",
      "Idaho                 1.05  0.92     0.70\n",
      "Illinois              1.22  0.39     0.73\n",
      "Indiana               1.09  0.25     0.73\n",
      "Iowa                  1.42  0.18     0.72\n",
      "Kansas                1.18  0.14     0.67\n",
      "Kentucky              1.11  0.18     0.65\n",
      "Louisiana             1.50  0.28     0.85\n",
      "Maine                 1.24  0.42     0.83\n",
      "Maryland              0.97  0.37     0.87\n",
      "Massachusetts         1.02  0.61     0.84\n",
      "Michigan              1.10  0.31     0.80\n",
      "Minnesota             1.19  0.37     1.04\n",
      "Mississippi           1.41  0.11     0.71\n",
      "Missouri              1.30  0.30     0.83\n",
      "Montana               1.66  0.45     0.88\n",
      "Nebraska              1.46  0.20     0.68\n",
      "Nevada                1.57  0.58     1.15\n",
      "New Hampshire         1.72  0.84     1.82\n",
      "New Jersey            0.92  0.57     0.87\n",
      "New Mexico            1.37  0.32     0.74\n",
      "New York              0.91  0.46     0.69\n",
      "North Carolina        1.10  0.34     0.58\n",
      "North Dakota          1.63  0.25     1.16\n",
      "Ohio                  1.28  0.26     0.47\n",
      "Oklahoma              1.18  0.18     0.58\n",
      "Oregon                1.28  0.49     0.82\n",
      "Pennsylvania          1.35  0.23     0.61\n",
      "Rhode Island          1.10  0.53     0.92\n",
      "South Carolina        1.36  0.24     0.77\n",
      "South Dakota          1.53  0.22     0.88\n",
      "Tennessee             1.05  0.21     0.57\n",
      "Texas                 1.42  0.28     0.58\n",
      "Utah                  0.70  0.17     0.46\n",
      "Vermont               1.36  0.63     0.70\n",
      "Virginia              1.11  0.43     0.59\n",
      "Washington            1.09  0.51     0.74\n",
      "West Virginia         1.24  0.10     0.45\n",
      "Wisconsin             1.49  0.31     1.16\n",
      "Wyoming               1.45  0.22     1.10\n"
     ]
    }
   ],
   "source": [
    "##Deleting Columns\n",
    "alco2009 = pd.read_csv(\"C:/Users/Administrator/Desktop/Business Prog/biz_final/example_file/example1027/report2009.csv\"\n",
    "                       , index_col = \"State\")\n",
    "df = alco2009.drop(\"Alabama\")\n",
    "print(df)"
   ]
  },
  {
   "cell_type": "code",
   "execution_count": 57,
   "metadata": {},
   "outputs": [
    {
     "name": "stdout",
     "output_type": "stream",
     "text": [
      "                      Wine  Spirits\n",
      "State                              \n",
      "Alabama               0.22     0.58\n",
      "Alaska                0.54     1.16\n",
      "Arizona               0.38     0.74\n",
      "Arkansas              0.17     0.60\n",
      "California            0.55     0.73\n",
      "Colorado              0.46     1.00\n",
      "Connecticut           0.59     0.86\n",
      "Delaware              0.57     1.25\n",
      "District of Columbia  1.00     1.64\n",
      "Florida               0.48     0.92\n",
      "Georgia               0.25     0.64\n",
      "Hawaii                0.53     0.75\n",
      "Idaho                 0.92     0.70\n",
      "Illinois              0.39     0.73\n",
      "Indiana               0.25     0.73\n",
      "Iowa                  0.18     0.72\n",
      "Kansas                0.14     0.67\n",
      "Kentucky              0.18     0.65\n",
      "Louisiana             0.28     0.85\n",
      "Maine                 0.42     0.83\n",
      "Maryland              0.37     0.87\n",
      "Massachusetts         0.61     0.84\n",
      "Michigan              0.31     0.80\n",
      "Minnesota             0.37     1.04\n",
      "Mississippi           0.11     0.71\n",
      "Missouri              0.30     0.83\n",
      "Montana               0.45     0.88\n",
      "Nebraska              0.20     0.68\n",
      "Nevada                0.58     1.15\n",
      "New Hampshire         0.84     1.82\n",
      "New Jersey            0.57     0.87\n",
      "New Mexico            0.32     0.74\n",
      "New York              0.46     0.69\n",
      "North Carolina        0.34     0.58\n",
      "North Dakota          0.25     1.16\n",
      "Ohio                  0.26     0.47\n",
      "Oklahoma              0.18     0.58\n",
      "Oregon                0.49     0.82\n",
      "Pennsylvania          0.23     0.61\n",
      "Rhode Island          0.53     0.92\n",
      "South Carolina        0.24     0.77\n",
      "South Dakota          0.22     0.88\n",
      "Tennessee             0.21     0.57\n",
      "Texas                 0.28     0.58\n",
      "Utah                  0.17     0.46\n",
      "Vermont               0.63     0.70\n",
      "Virginia              0.43     0.59\n",
      "Washington            0.51     0.74\n",
      "West Virginia         0.10     0.45\n",
      "Wisconsin             0.31     1.16\n",
      "Wyoming               0.22     1.10\n"
     ]
    }
   ],
   "source": [
    "df = alco2009.drop(\"Beer\", axis = 1)\n",
    "print(df)"
   ]
  },
  {
   "cell_type": "code",
   "execution_count": 58,
   "metadata": {},
   "outputs": [
    {
     "name": "stdout",
     "output_type": "stream",
     "text": [
      "                 Beer   Wine  Spirits  Water\n",
      "State                                       \n",
      "South Carolina  False  False    False   True\n",
      "South Dakota    False  False    False   True\n",
      "Samoa            True   True     True   True\n"
     ]
    }
   ],
   "source": [
    "##Replacing Missing values\n",
    "isnull=nan_alco.isnull()\n",
    "print(isnull)"
   ]
  },
  {
   "cell_type": "code",
   "execution_count": 59,
   "metadata": {},
   "outputs": [],
   "source": [
    "sp = nan_alco['Spirits']\n",
    "clean = sp.notnull()"
   ]
  },
  {
   "cell_type": "code",
   "execution_count": 60,
   "metadata": {},
   "outputs": [
    {
     "data": {
      "text/plain": [
       "State\n",
       "South Carolina    0.77\n",
       "South Dakota      0.88\n",
       "Samoa              NaN\n",
       "Name: Spirits, dtype: float64"
      ]
     },
     "execution_count": 60,
     "metadata": {},
     "output_type": "execute_result"
    }
   ],
   "source": [
    "sp"
   ]
  },
  {
   "cell_type": "code",
   "execution_count": 61,
   "metadata": {},
   "outputs": [
    {
     "data": {
      "text/plain": [
       "State\n",
       "South Carolina     True\n",
       "South Dakota       True\n",
       "Samoa             False\n",
       "Name: Spirits, dtype: bool"
      ]
     },
     "execution_count": 61,
     "metadata": {},
     "output_type": "execute_result"
    }
   ],
   "source": [
    "clean"
   ]
  },
  {
   "cell_type": "code",
   "execution_count": 62,
   "metadata": {},
   "outputs": [
    {
     "data": {
      "text/plain": [
       "State\n",
       "South Carolina    False\n",
       "South Dakota      False\n",
       "Samoa              True\n",
       "Name: Spirits, dtype: bool"
      ]
     },
     "execution_count": 62,
     "metadata": {},
     "output_type": "execute_result"
    }
   ],
   "source": [
    "-clean"
   ]
  },
  {
   "cell_type": "code",
   "execution_count": 63,
   "metadata": {},
   "outputs": [
    {
     "data": {
      "text/plain": [
       "State\n",
       "Samoa   NaN\n",
       "Name: Spirits, dtype: float64"
      ]
     },
     "execution_count": 63,
     "metadata": {},
     "output_type": "execute_result"
    }
   ],
   "source": [
    "sp[-clean]"
   ]
  },
  {
   "cell_type": "code",
   "execution_count": 64,
   "metadata": {},
   "outputs": [
    {
     "data": {
      "text/plain": [
       "State\n",
       "South Carolina    0.77\n",
       "South Dakota      0.88\n",
       "Name: Spirits, dtype: float64"
      ]
     },
     "execution_count": 64,
     "metadata": {},
     "output_type": "execute_result"
    }
   ],
   "source": [
    "sp[clean]"
   ]
  },
  {
   "cell_type": "code",
   "execution_count": 65,
   "metadata": {},
   "outputs": [
    {
     "name": "stdout",
     "output_type": "stream",
     "text": [
      "                Beer  Wine  Spirits  Water\n",
      "State                                     \n",
      "South Carolina  1.36  0.24    0.770    NaN\n",
      "South Dakota    1.53  0.22    0.880    NaN\n",
      "Samoa            NaN   NaN    0.825    NaN\n"
     ]
    }
   ],
   "source": [
    "sp[-clean]=sp[clean].mean()\n",
    "print(nan_alco)"
   ]
  },
  {
   "cell_type": "code",
   "execution_count": 66,
   "metadata": {},
   "outputs": [
    {
     "name": "stdout",
     "output_type": "stream",
     "text": [
      "                Beer  Wine  Spirits  Water\n",
      "State                                     \n",
      "South Carolina  1.36  0.24    0.770    0.0\n",
      "South Dakota    1.53  0.22    0.880    0.0\n",
      "Samoa           0.00  0.00    0.825    0.0\n"
     ]
    }
   ],
   "source": [
    "fill = nan_alco.fillna(0)\n",
    "print(fill)"
   ]
  },
  {
   "cell_type": "code",
   "execution_count": null,
   "metadata": {
    "collapsed": true
   },
   "outputs": [],
   "source": []
  },
  {
   "cell_type": "code",
   "execution_count": null,
   "metadata": {
    "collapsed": true
   },
   "outputs": [],
   "source": []
  }
 ],
 "metadata": {
  "anaconda-cloud": {},
  "kernelspec": {
   "display_name": "Python [default]",
   "language": "python",
   "name": "python3"
  },
  "language_info": {
   "codemirror_mode": {
    "name": "ipython",
    "version": 3
   },
   "file_extension": ".py",
   "mimetype": "text/x-python",
   "name": "python",
   "nbconvert_exporter": "python",
   "pygments_lexer": "ipython3",
   "version": "3.5.2"
  }
 },
 "nbformat": 4,
 "nbformat_minor": 2
}
