{
 "cells": [
  {
   "cell_type": "code",
   "execution_count": 3,
   "metadata": {
    "collapsed": true
   },
   "outputs": [],
   "source": [
    "import folium"
   ]
  },
  {
   "cell_type": "code",
   "execution_count": 4,
   "metadata": {
    "collapsed": true
   },
   "outputs": [],
   "source": [
    "map_osm = folium.Map(location=[37.566345,126.977893])"
   ]
  },
  {
   "cell_type": "code",
   "execution_count": 5,
   "metadata": {
    "collapsed": true
   },
   "outputs": [],
   "source": [
    "map_osm.save('C:/Users/Administrator/Desktop/py_geo/map1.html')"
   ]
  },
  {
   "cell_type": "code",
   "execution_count": 6,
   "metadata": {
    "collapsed": true
   },
   "outputs": [],
   "source": [
    "map_osm = folium.Map(location=[37.566345, 126.977893], zoom_start=17)"
   ]
  },
  {
   "cell_type": "code",
   "execution_count": 7,
   "metadata": {
    "collapsed": true
   },
   "outputs": [],
   "source": [
    "map_osm.save('C:/Users/Administrator/Desktop/py_geo/map2.html')"
   ]
  },
  {
   "cell_type": "markdown",
   "metadata": {},
   "source": [
    "### another map"
   ]
  },
  {
   "cell_type": "code",
   "execution_count": 8,
   "metadata": {
    "collapsed": true
   },
   "outputs": [],
   "source": [
    "map_osm = folium.Map(location=[37.566345,126.977893], zoom_start=17, tiles='Stamen Terrain')"
   ]
  },
  {
   "cell_type": "code",
   "execution_count": 9,
   "metadata": {
    "collapsed": true
   },
   "outputs": [],
   "source": [
    "map_osm.save('C:/Users/Administrator/Desktop/py_geo/map3.html')"
   ]
  },
  {
   "cell_type": "code",
   "execution_count": 10,
   "metadata": {
    "collapsed": true
   },
   "outputs": [],
   "source": [
    "map_osm = folium.Map(location=[37.566345,126.977893], zoom_start=17, tiles='Stamen Toner')"
   ]
  },
  {
   "cell_type": "code",
   "execution_count": 11,
   "metadata": {
    "collapsed": true
   },
   "outputs": [],
   "source": [
    "map_osm.save('C:/Users/Administrator/Desktop/py_geo/map4.html')"
   ]
  },
  {
   "cell_type": "markdown",
   "metadata": {},
   "source": [
    "### marker and popup"
   ]
  },
  {
   "cell_type": "code",
   "execution_count": 12,
   "metadata": {
    "collapsed": true
   },
   "outputs": [],
   "source": [
    "map_osm = folium.Map(location=[37.566345,126.977893], zoom_start=17)"
   ]
  },
  {
   "cell_type": "code",
   "execution_count": 13,
   "metadata": {
    "collapsed": false
   },
   "outputs": [
    {
     "data": {
      "text/plain": [
       "<folium.map.Marker at 0x8e32710>"
      ]
     },
     "execution_count": 13,
     "metadata": {},
     "output_type": "execute_result"
    }
   ],
   "source": [
    " folium.Marker([37.566345, 126.977893], popup='서울특별시청').add_to(map_osm)"
   ]
  },
  {
   "cell_type": "code",
   "execution_count": 14,
   "metadata": {
    "collapsed": false
   },
   "outputs": [
    {
     "data": {
      "text/plain": [
       "<folium.map.Marker at 0x8e51ef0>"
      ]
     },
     "execution_count": 14,
     "metadata": {},
     "output_type": "execute_result"
    }
   ],
   "source": [
    "folium.Marker([37.5658859, 126.9754788], popup='덕수궁').add_to(map_osm)"
   ]
  },
  {
   "cell_type": "code",
   "execution_count": 15,
   "metadata": {
    "collapsed": true
   },
   "outputs": [],
   "source": [
    "map_osm.save('C:/Users/Administrator/Desktop/py_geo/map5.html')"
   ]
  },
  {
   "cell_type": "markdown",
   "metadata": {},
   "source": [
    "### pet hospital marker"
   ]
  },
  {
   "cell_type": "code",
   "execution_count": 16,
   "metadata": {
    "collapsed": false
   },
   "outputs": [
    {
     "data": {
      "text/plain": [
       "[37.50059, 127.051679]"
      ]
     },
     "execution_count": 16,
     "metadata": {},
     "output_type": "execute_result"
    }
   ],
   "source": [
    "[37.501734, 127.050548] #주주동물종합병원\n",
    "\n",
    "[37.500590, 127.051679] #그린동물병원"
   ]
  },
  {
   "cell_type": "code",
   "execution_count": 17,
   "metadata": {
    "collapsed": false
   },
   "outputs": [
    {
     "data": {
      "text/plain": [
       "<folium.map.Marker at 0x8e3af28>"
      ]
     },
     "execution_count": 17,
     "metadata": {},
     "output_type": "execute_result"
    }
   ],
   "source": [
    "map_osm = folium.Map(location=[37.5018238,127.0490535], zoom_start=17)\n",
    "folium.Marker([37.501734, 127.050548], popup='주주동물종합병원').add_to(map_osm)\n",
    "folium.Marker([37.500590, 127.051679], popup='그린동물병원').add_to(map_osm)"
   ]
  },
  {
   "cell_type": "code",
   "execution_count": 18,
   "metadata": {
    "collapsed": true
   },
   "outputs": [],
   "source": [
    "map_osm.save('C:/Users/Administrator/Desktop/py_geo/pet_hos_map.html')"
   ]
  },
  {
   "cell_type": "markdown",
   "metadata": {},
   "source": [
    "## circle"
   ]
  },
  {
   "cell_type": "code",
   "execution_count": 19,
   "metadata": {
    "collapsed": false
   },
   "outputs": [
    {
     "data": {
      "text/plain": [
       "<folium.features.CircleMarker at 0x8e70668>"
      ]
     },
     "execution_count": 19,
     "metadata": {},
     "output_type": "execute_result"
    }
   ],
   "source": [
    "map_osm = folium.Map(location=[37.5018238,127.0490535], zoom_start=17)\n",
    "folium.CircleMarker([37.501734, 127.050548], radius=7,color='#4abae2',fill_color='#4abae2', popup='주주동물종합병원').add_to(map_osm)\n",
    "folium.CircleMarker([37.500590, 127.051679], radius=7,color='#4abae2',fill_color='#4abae2', popup='그린동물병원').add_to(map_osm)"
   ]
  },
  {
   "cell_type": "code",
   "execution_count": 20,
   "metadata": {
    "collapsed": false
   },
   "outputs": [],
   "source": [
    " map_osm.save('C:/Users/Administrator/Desktop/py_geo/pet_hos_map2.html')"
   ]
  },
  {
   "cell_type": "code",
   "execution_count": null,
   "metadata": {
    "collapsed": true
   },
   "outputs": [],
   "source": []
  },
  {
   "cell_type": "code",
   "execution_count": null,
   "metadata": {
    "collapsed": true
   },
   "outputs": [],
   "source": []
  },
  {
   "cell_type": "markdown",
   "metadata": {},
   "source": [
    "### geocoding trial"
   ]
  },
  {
   "cell_type": "code",
   "execution_count": 47,
   "metadata": {
    "collapsed": true
   },
   "outputs": [],
   "source": [
    "import requests"
   ]
  },
  {
   "cell_type": "code",
   "execution_count": 193,
   "metadata": {
    "collapsed": false
   },
   "outputs": [
    {
     "data": {
      "text/plain": [
       "(37.5281517, 127.0377981)"
      ]
     },
     "execution_count": 193,
     "metadata": {},
     "output_type": "execute_result"
    }
   ],
   "source": [
    "url = 'https://maps.googleapis.com/maps/api/geocode/json'\n",
    "params = {'sensor': 'false', 'address': '압구정메이트동물병원'}\n",
    "r = requests.get(url, params=params)\n",
    "results = r.json()['results']\n",
    "location = results[0]['geometry']['location']\n",
    "location['lat'], location['lng']"
   ]
  },
  {
   "cell_type": "code",
   "execution_count": 194,
   "metadata": {
    "collapsed": true
   },
   "outputs": [],
   "source": [
    "import pandas as pd"
   ]
  },
  {
   "cell_type": "code",
   "execution_count": 195,
   "metadata": {
    "collapsed": false
   },
   "outputs": [],
   "source": [
    "pet_hos = pd.read_csv('pet_hos.csv', encoding='euc-kr')"
   ]
  },
  {
   "cell_type": "code",
   "execution_count": 196,
   "metadata": {
    "collapsed": false,
    "scrolled": false
   },
   "outputs": [
    {
     "data": {
      "text/html": [
       "<div>\n",
       "<table border=\"1\" class=\"dataframe\">\n",
       "  <thead>\n",
       "    <tr style=\"text-align: right;\">\n",
       "      <th></th>\n",
       "      <th>areacode</th>\n",
       "      <th>registdate</th>\n",
       "      <th>name</th>\n",
       "      <th>cdtcode</th>\n",
       "      <th>cdt</th>\n",
       "      <th>address</th>\n",
       "      <th>phone</th>\n",
       "      <th>size</th>\n",
       "    </tr>\n",
       "  </thead>\n",
       "  <tbody>\n",
       "    <tr>\n",
       "      <th>0</th>\n",
       "      <td>3220000</td>\n",
       "      <td>20110727</td>\n",
       "      <td>중앙동물메디컬센터</td>\n",
       "      <td>0</td>\n",
       "      <td>정상</td>\n",
       "      <td>서울특별시 강남구 논현동 277번지 21호</td>\n",
       "      <td>512-3331</td>\n",
       "      <td>388.60</td>\n",
       "    </tr>\n",
       "    <tr>\n",
       "      <th>1</th>\n",
       "      <td>3220000</td>\n",
       "      <td>20170714</td>\n",
       "      <td>압구정메이트동물병원</td>\n",
       "      <td>0</td>\n",
       "      <td>정상</td>\n",
       "      <td>서울특별시 강남구 신사동 660번지 7호 1층,2층</td>\n",
       "      <td>02-540-6303</td>\n",
       "      <td>NaN</td>\n",
       "    </tr>\n",
       "    <tr>\n",
       "      <th>2</th>\n",
       "      <td>3220000</td>\n",
       "      <td>20030719</td>\n",
       "      <td>서경석동물병원</td>\n",
       "      <td>0</td>\n",
       "      <td>정상</td>\n",
       "      <td>서울특별시 강남구 일원동 663번지 1층</td>\n",
       "      <td>NaN</td>\n",
       "      <td>0.00</td>\n",
       "    </tr>\n",
       "    <tr>\n",
       "      <th>3</th>\n",
       "      <td>3220000</td>\n",
       "      <td>20040507</td>\n",
       "      <td>우리집동물병원</td>\n",
       "      <td>0</td>\n",
       "      <td>정상</td>\n",
       "      <td>서울특별시 강남구 도곡동 180번지 31호</td>\n",
       "      <td>02-572-9300</td>\n",
       "      <td>0.00</td>\n",
       "    </tr>\n",
       "    <tr>\n",
       "      <th>4</th>\n",
       "      <td>3220000</td>\n",
       "      <td>20060414</td>\n",
       "      <td>고려종합동물병원</td>\n",
       "      <td>0</td>\n",
       "      <td>정상</td>\n",
       "      <td>서울특별시 강남구 도곡동 527번지 3호 도곡렉슬상가 109동</td>\n",
       "      <td>575-7999</td>\n",
       "      <td>64.52</td>\n",
       "    </tr>\n",
       "  </tbody>\n",
       "</table>\n",
       "</div>"
      ],
      "text/plain": [
       "   areacode  registdate        name  cdtcode cdt  \\\n",
       "0   3220000    20110727   중앙동물메디컬센터        0  정상   \n",
       "1   3220000    20170714  압구정메이트동물병원        0  정상   \n",
       "2   3220000    20030719     서경석동물병원        0  정상   \n",
       "3   3220000    20040507     우리집동물병원        0  정상   \n",
       "4   3220000    20060414    고려종합동물병원        0  정상   \n",
       "\n",
       "                               address        phone    size  \n",
       "0            서울특별시 강남구 논현동 277번지 21호       512-3331  388.60  \n",
       "1        서울특별시 강남구 신사동 660번지 7호 1층,2층   02-540-6303     NaN  \n",
       "2              서울특별시 강남구 일원동 663번지 1층           NaN    0.00  \n",
       "3            서울특별시 강남구 도곡동 180번지 31호    02-572-9300    0.00  \n",
       "4  서울특별시 강남구 도곡동 527번지 3호 도곡렉슬상가 109동      575-7999   64.52  "
      ]
     },
     "execution_count": 196,
     "metadata": {},
     "output_type": "execute_result"
    }
   ],
   "source": [
    "pet_hos.head()"
   ]
  },
  {
   "cell_type": "code",
   "execution_count": 197,
   "metadata": {
    "collapsed": false,
    "scrolled": false
   },
   "outputs": [
    {
     "data": {
      "text/html": [
       "<div>\n",
       "<table border=\"1\" class=\"dataframe\">\n",
       "  <thead>\n",
       "    <tr style=\"text-align: right;\">\n",
       "      <th></th>\n",
       "      <th>areacode</th>\n",
       "      <th>registdate</th>\n",
       "      <th>name</th>\n",
       "      <th>cdtcode</th>\n",
       "      <th>cdt</th>\n",
       "      <th>address</th>\n",
       "      <th>phone</th>\n",
       "      <th>size</th>\n",
       "    </tr>\n",
       "  </thead>\n",
       "  <tbody>\n",
       "    <tr>\n",
       "      <th>64</th>\n",
       "      <td>3220000</td>\n",
       "      <td>20150216</td>\n",
       "      <td>서울동물병원</td>\n",
       "      <td>0</td>\n",
       "      <td>정상</td>\n",
       "      <td>서울특별시 강남구 대치동 908번지 6호 1층</td>\n",
       "      <td>566-8211</td>\n",
       "      <td>0.0</td>\n",
       "    </tr>\n",
       "    <tr>\n",
       "      <th>65</th>\n",
       "      <td>3220000</td>\n",
       "      <td>20150225</td>\n",
       "      <td>동물병원다온</td>\n",
       "      <td>0</td>\n",
       "      <td>정상</td>\n",
       "      <td>서울특별시 강남구 도곡동 545번지 6호 1층,2층</td>\n",
       "      <td>02-576-1239</td>\n",
       "      <td>0.0</td>\n",
       "    </tr>\n",
       "    <tr>\n",
       "      <th>66</th>\n",
       "      <td>3220000</td>\n",
       "      <td>20140404</td>\n",
       "      <td>아이윌24시동물병원</td>\n",
       "      <td>0</td>\n",
       "      <td>정상</td>\n",
       "      <td>서울특별시 강남구 청담동 46번지 13호 지상1층, 지하1층 일부</td>\n",
       "      <td>269257021</td>\n",
       "      <td>238.5</td>\n",
       "    </tr>\n",
       "    <tr>\n",
       "      <th>67</th>\n",
       "      <td>3220000</td>\n",
       "      <td>20170226</td>\n",
       "      <td>대치동물의료센터</td>\n",
       "      <td>0</td>\n",
       "      <td>정상</td>\n",
       "      <td>서울특별시 강남구 대치동 940번지 10호 1층</td>\n",
       "      <td>02-501-8275</td>\n",
       "      <td>NaN</td>\n",
       "    </tr>\n",
       "    <tr>\n",
       "      <th>68</th>\n",
       "      <td>3220000</td>\n",
       "      <td>20170405</td>\n",
       "      <td>원동물병원</td>\n",
       "      <td>0</td>\n",
       "      <td>정상</td>\n",
       "      <td>서울특별시 강남구 대치동 907번지 12호 우성빌딩 1층 103B호</td>\n",
       "      <td>02-555-6835</td>\n",
       "      <td>NaN</td>\n",
       "    </tr>\n",
       "  </tbody>\n",
       "</table>\n",
       "</div>"
      ],
      "text/plain": [
       "    areacode  registdate        name  cdtcode cdt  \\\n",
       "64   3220000    20150216      서울동물병원        0  정상   \n",
       "65   3220000    20150225      동물병원다온        0  정상   \n",
       "66   3220000    20140404  아이윌24시동물병원        0  정상   \n",
       "67   3220000    20170226    대치동물의료센터        0  정상   \n",
       "68   3220000    20170405       원동물병원        0  정상   \n",
       "\n",
       "                                   address        phone   size  \n",
       "64              서울특별시 강남구 대치동 908번지 6호 1층      566-8211    0.0  \n",
       "65           서울특별시 강남구 도곡동 545번지 6호 1층,2층   02-576-1239    0.0  \n",
       "66   서울특별시 강남구 청담동 46번지 13호 지상1층, 지하1층 일부     269257021  238.5  \n",
       "67             서울특별시 강남구 대치동 940번지 10호 1층   02-501-8275    NaN  \n",
       "68  서울특별시 강남구 대치동 907번지 12호 우성빌딩 1층 103B호   02-555-6835    NaN  "
      ]
     },
     "execution_count": 197,
     "metadata": {},
     "output_type": "execute_result"
    }
   ],
   "source": [
    "pet_hos.tail()"
   ]
  },
  {
   "cell_type": "code",
   "execution_count": 198,
   "metadata": {
    "collapsed": false
   },
   "outputs": [],
   "source": [
    "hos_list = list(pet_hos.name)"
   ]
  },
  {
   "cell_type": "code",
   "execution_count": 199,
   "metadata": {
    "collapsed": false
   },
   "outputs": [
    {
     "data": {
      "text/plain": [
       "'원동물병원'"
      ]
     },
     "execution_count": 199,
     "metadata": {},
     "output_type": "execute_result"
    }
   ],
   "source": [
    "hos_list[-1]"
   ]
  },
  {
   "cell_type": "code",
   "execution_count": 200,
   "metadata": {
    "collapsed": false
   },
   "outputs": [
    {
     "data": {
      "text/plain": [
       "(37.5098484, 127.0414372)"
      ]
     },
     "execution_count": 200,
     "metadata": {},
     "output_type": "execute_result"
    }
   ],
   "source": [
    "params = {'sensor': 'false', 'address': '중앙동물메디컬센터'}\n",
    "r = requests.get(url, params=params)\n",
    "results = r.json()['results']\n",
    "location = results[0]['geometry']['location']\n",
    "location['lat'], location['lng']"
   ]
  },
  {
   "cell_type": "code",
   "execution_count": 201,
   "metadata": {
    "collapsed": false
   },
   "outputs": [
    {
     "data": {
      "text/plain": [
       "69"
      ]
     },
     "execution_count": 201,
     "metadata": {},
     "output_type": "execute_result"
    }
   ],
   "source": [
    "len(hos_list)"
   ]
  },
  {
   "cell_type": "code",
   "execution_count": 202,
   "metadata": {
    "collapsed": true
   },
   "outputs": [],
   "source": [
    "hos_location = []"
   ]
  },
  {
   "cell_type": "code",
   "execution_count": 239,
   "metadata": {
    "collapsed": false,
    "scrolled": true
   },
   "outputs": [
    {
     "name": "stdout",
     "output_type": "stream",
     "text": [
      "중앙동물메디컬센터좌표 받는중..\n",
      "중앙동물메디컬센터좌표 저장완료....\n",
      "압구정메이트동물병원좌표 받는중..\n",
      "압구정메이트동물병원좌표 저장완료....\n",
      "서경석동물병원좌표 받는중..\n",
      "서경석동물병원좌표 저장완료....\n",
      "우리집동물병원좌표 받는중..\n",
      "우리집동물병원좌표 저장완료....\n",
      "고려종합동물병원좌표 받는중..\n",
      "고려종합동물병원좌표 저장완료....\n",
      "퍼피즌동물병원좌표 받는중..\n",
      "퍼피즌동물병원좌표 저장완료....\n",
      "논현동물병원좌표 받는중..\n",
      "논현동물병원좌표 저장완료....\n",
      "청담동물병원좌표 받는중..\n",
      "청담동물병원좌표 저장완료....\n",
      "삼성종합동물병원좌표 받는중..\n",
      "삼성종합동물병원좌표 저장완료....\n",
      "강남 25시동물병원좌표 받는중..\n",
      "강남 25시동물병원좌표 저장완료....\n",
      "메디포즈 동물의료센터좌표 받는중..\n",
      "메디포즈 동물의료센터좌표 저장완료....\n",
      "이안동물의학센터(청담점)좌표 받는중..\n",
      "이안동물의학센터(청담점)좌표 저장완료....\n",
      "오래오래동물병원좌표 받는중..\n",
      "오래오래동물병원좌표 저장완료....\n",
      "예은동물병원좌표 받는중..\n",
      "예은동물병원좌표 저장완료....\n",
      "그레이스 동물병원좌표 받는중..\n",
      "그레이스 동물병원좌표 저장완료....\n",
      "현진우 동물병원좌표 받는중..\n",
      "현진우 동물병원좌표 저장완료....\n",
      "충현동물병원좌표 받는중..\n",
      "충현동물병원좌표 저장완료....\n",
      "한 동물병원좌표 받는중..\n",
      "한 동물병원좌표 저장완료....\n",
      "일마레 동물 메디컬 센터좌표 받는중..\n",
      "일마레 동물 메디컬 센터좌표 저장완료....\n",
      "래이동물의료센터좌표 받는중..\n",
      "래이동물의료센터좌표 저장완료....\n",
      "아크리스 동물의료센터좌표 받는중..\n",
      "아크리스 동물의료센터좌표 저장완료....\n",
      "닥터펫동물의료센터좌표 받는중..\n",
      "닥터펫동물의료센터좌표 저장완료....\n",
      "이리온 동물의료원좌표 받는중..\n",
      "이리온 동물의료원좌표 저장완료....\n",
      "24시 청담우리 동물병원좌표 받는중..\n",
      "24시 청담우리 동물병원좌표 저장완료....\n",
      "24시 닥터멍 동물병원좌표 받는중..\n",
      "24시 닥터멍 동물병원좌표 저장완료....\n",
      "다정동물병원좌표 받는중..\n",
      "다정동물병원좌표 저장완료....\n",
      "위너스 동물병원좌표 받는중..\n",
      "위너스 동물병원좌표 저장완료....\n",
      "츄츄 동물병원좌표 받는중..\n",
      "츄츄 동물병원좌표 저장완료....\n",
      "강남동물병원좌표 받는중..\n",
      "강남동물병원좌표 저장완료....\n",
      "카디오 동물의료병원좌표 받는중..\n",
      "카디오 동물의료병원좌표 저장완료....\n",
      "학동24시동물병원좌표 받는중..\n",
      "학동24시동물병원좌표 저장완료....\n",
      "그린동물병원좌표 받는중..\n",
      "그린동물병원좌표 저장완료....\n",
      "역삼동물병원좌표 받는중..\n",
      "역삼동물병원좌표 저장완료....\n",
      "스마트동물병원좌표 받는중..\n",
      "스마트동물병원좌표 저장완료....\n",
      "24시 신사동물병원좌표 받는중..\n",
      "24시 신사동물병원좌표 저장완료....\n",
      "마이펫동물의료센터좌표 받는중..\n",
      "마이펫동물의료센터좌표 저장완료....\n",
      "24시 OK동물병원좌표 받는중..\n",
      "24시 OK동물병원좌표 저장완료....\n",
      "백산동물병원좌표 받는중..\n",
      "백산동물병원좌표 저장완료....\n",
      "라온펫동물의료센터좌표 받는중..\n",
      "라온펫동물의료센터좌표 저장완료....\n",
      "주주동물종합병원좌표 받는중..\n",
      "주주동물종합병원좌표 저장완료....\n",
      "대치성심동물병원좌표 받는중..\n",
      "대치성심동물병원좌표 저장완료....\n",
      "포이동물병원좌표 받는중..\n",
      "포이동물병원좌표 저장완료....\n",
      "자연동물병원좌표 받는중..\n",
      "자연동물병원좌표 저장완료....\n",
      "센트럴동물병원좌표 받는중..\n",
      "센트럴동물병원좌표 저장완료....\n",
      "수서동물병원좌표 받는중..\n",
      "수서동물병원좌표 저장완료....\n",
      "압구정동물병원좌표 받는중..\n",
      "압구정동물병원좌표 저장완료....\n",
      "굿모닝동물병원좌표 받는중..\n",
      "굿모닝동물병원좌표 저장완료....\n",
      "다옴동물병원좌표 받는중..\n",
      "다옴동물병원좌표 저장완료....\n",
      "선릉동물병원좌표 받는중..\n",
      "선릉동물병원좌표 저장완료....\n",
      "청담눈초롱안과동물병원좌표 받는중..\n",
      "청담눈초롱안과동물병원좌표 저장완료....\n",
      "페츠비동물병원좌표 받는중..\n",
      "페츠비동물병원좌표 저장완료....\n",
      "개포별빛동물병원좌표 받는중..\n",
      "개포별빛동물병원좌표 저장완료....\n",
      "24시 스마트동물병원(신사본원)좌표 받는중..\n",
      "24시 스마트동물병원(신사본원)좌표 저장완료....\n",
      "서울동물심장병원좌표 받는중..\n",
      "서울동물심장병원좌표 저장완료....\n",
      "대치수동물병원좌표 받는중..\n",
      "대치수동물병원좌표 저장완료....\n",
      "루이스동물병원좌표 받는중..\n",
      "루이스동물병원좌표 저장완료....\n",
      "이비치 동물치과병원좌표 받는중..\n",
      "이비치 동물치과병원좌표 저장완료....\n",
      "봄동물병원좌표 받는중..\n",
      "봄동물병원좌표 저장완료....\n",
      "마더스동물병원좌표 받는중..\n",
      "마더스동물병원좌표 저장완료....\n",
      "도곡종합동물병원좌표 받는중..\n",
      "도곡종합동물병원좌표 저장완료....\n",
      "치료멍멍동물병원좌표 받는중..\n",
      "치료멍멍동물병원좌표 저장완료....\n",
      "가로수동물병원좌표 받는중..\n",
      "가로수동물병원좌표 저장완료....\n",
      "수정동물병원좌표 받는중..\n",
      "수정동물병원좌표 저장완료....\n",
      "드림동물병원좌표 받는중..\n",
      "드림동물병원좌표 저장완료....\n",
      "서울동물병원좌표 받는중..\n",
      "서울동물병원좌표 저장완료....\n",
      "동물병원다온좌표 받는중..\n",
      "동물병원다온좌표 저장완료....\n",
      "아이윌24시동물병원좌표 받는중..\n",
      "아이윌24시동물병원좌표 저장완료....\n",
      "대치동물의료센터좌표 받는중..\n",
      "대치동물의료센터좌표 저장완료....\n",
      "원동물병원좌표 받는중..\n",
      "원동물병원좌표 저장완료....\n"
     ]
    }
   ],
   "source": [
    "\n",
    "for name in hos_list:\n",
    "    params = {'sensor': 'false', 'address': name}\n",
    "    r = requests.get(url, params=params)\n",
    "    results = r.json()['results']\n",
    "    print(name +'좌표 받는중..')\n",
    "    location = results[0]['geometry']['location']\n",
    "    print(name+'좌표 저장완료....')\n",
    "    small_list = list([location['lat'], location['lng']])\n",
    "    hos_location.append(small_list)\n",
    "    "
   ]
  },
  {
   "cell_type": "code",
   "execution_count": 240,
   "metadata": {
    "collapsed": false,
    "scrolled": true
   },
   "outputs": [
    {
     "data": {
      "text/plain": [
       "[[37.5098484, 127.0414372, '중앙동물메디컬센터'],\n",
       " [37.5281517, 127.0377981, '압구정메이트동물병원'],\n",
       " [37.49235669999999, 127.084188, '서경석동물병원'],\n",
       " [37.4864625, 127.0452152, '우리집동물병원'],\n",
       " [37.4953782, 127.0527143, '고려종합동물병원'],\n",
       " [37.5121535, 127.0439095, '퍼피즌동물병원'],\n",
       " [37.507476, 127.0267895, '논현동물병원'],\n",
       " [37.5145834, 127.0526429, '청담동물병원'],\n",
       " [37.37827, 127.9494639, '삼성종합동물병원'],\n",
       " [37.5160698, 127.0386317, '강남 25시동물병원'],\n",
       " [37.4940724, 127.0343027, '메디포즈 동물의료센터'],\n",
       " [37.5238585, 127.039623, '이안동물의학센터(청담점)'],\n",
       " [37.4950455, 127.0451681, '오래오래동물병원'],\n",
       " [37.4923809, 127.0400194, '예은동물병원'],\n",
       " [37.5105703, 127.0242166, '그레이스 동물병원'],\n",
       " [37.4942669, 127.0346883, '현진우 동물병원'],\n",
       " [37.5089873, 127.0327714, '충현동물병원'],\n",
       " [37.4864625, 127.0452152, '한 동물병원'],\n",
       " [37.5241246, 127.0493527, '일마레 동물 메디컬 센터'],\n",
       " [37.4926646, 127.0576942, '래이동물의료센터'],\n",
       " [37.512209, 127.0260775, '아크리스 동물의료센터'],\n",
       " [37.5120452, 127.0434392, '닥터펫동물의료센터'],\n",
       " [37.5242841, 127.0447752, '이리온 동물의료원'],\n",
       " [37.5145834, 127.0526429, '24시 청담우리 동물병원'],\n",
       " [37.502503, 127.0356746, '24시 닥터멍 동물병원'],\n",
       " [37.5107294, 127.0278422, '다정동물병원'],\n",
       " [37.4974885, 127.042183, '위너스 동물병원'],\n",
       " [37.49312190000001, 127.0354221, '츄츄 동물병원'],\n",
       " [37.507793, 127.0344379, '강남동물병원'],\n",
       " [37.5071531, 127.027625, '카디오 동물의료병원'],\n",
       " [37.5138229, 127.0289671, '학동24시동물병원'],\n",
       " [37.3416443, 127.9620967, '그린동물병원'],\n",
       " [37.5050023, 127.035759, '역삼동물병원'],\n",
       " [37.5206602, 127.0299781, '스마트동물병원'],\n",
       " [37.5217079, 127.0331599, '24시 신사동물병원'],\n",
       " [37.5125118, 127.0531532, '마이펫동물의료센터'],\n",
       " [37.4998521, 127.0514741, '24시 OK동물병원'],\n",
       " [37.4999946, 127.0393429, '백산동물병원'],\n",
       " [37.4908748, 127.0573085, '라온펫동물의료센터'],\n",
       " [37.5016802, 127.0505632, '주주동물종합병원'],\n",
       " [37.5014608, 127.0532418, '대치성심동물병원'],\n",
       " [37.4789079, 127.0472153, '포이동물병원'],\n",
       " [37.4792134, 127.0509093, '자연동물병원'],\n",
       " [37.5586363, 127.0336885, '센트럴동물병원'],\n",
       " [37.4848802, 127.09066, '수서동물병원'],\n",
       " [37.5281517, 127.0377981, '압구정동물병원'],\n",
       " [37.5446758, 126.9460288, '굿모닝동물병원'],\n",
       " [37.3834531, 126.9606622, '다옴동물병원'],\n",
       " [37.5068489, 127.0476866, '선릉동물병원'],\n",
       " [37.525117, 127.0525368, '청담눈초롱안과동물병원'],\n",
       " [37.5189026, 127.0253829, '페츠비동물병원'],\n",
       " [37.4763984, 127.0463008, '개포별빛동물병원'],\n",
       " [37.5206602, 127.0299781, '24시 스마트동물병원(신사본원)'],\n",
       " [37.506653, 127.040849, '서울동물심장병원'],\n",
       " [37.5014608, 127.0532418, '대치수동물병원'],\n",
       " [37.5041457, 127.051482, '루이스동물병원'],\n",
       " [37.5222242, 127.0396519, '이비치 동물치과병원'],\n",
       " [37.5757558, 126.9710255, '봄동물병원'],\n",
       " [37.4656514, 127.1011166, '마더스동물병원'],\n",
       " [37.495879, 127.046228, '도곡종합동물병원'],\n",
       " [37.522319, 127.0351874, '치료멍멍동물병원'],\n",
       " [37.5243111, 127.0234993, '가로수동물병원'],\n",
       " [37.482905, 127.080106, '수정동물병원'],\n",
       " [37.4970642, 127.0421964, '드림동물병원'],\n",
       " [37.5014608, 127.0532418, '서울동물병원'],\n",
       " [37.3834531, 126.9606622, '동물병원다온'],\n",
       " [37.5187831, 127.0487786, '아이윌24시동물병원'],\n",
       " [37.4926646, 127.0576942, '대치동물의료센터'],\n",
       " [37.5017917, 127.0553685, '원동물병원'],\n",
       " [37.5098484, 127.0414372],\n",
       " [37.5281517, 127.0377981],\n",
       " [37.49235669999999, 127.084188],\n",
       " [37.4864625, 127.0452152],\n",
       " [37.4953782, 127.0527143],\n",
       " [37.5121535, 127.0439095],\n",
       " [37.507476, 127.0267895],\n",
       " [37.5145834, 127.0526429],\n",
       " [37.37827, 127.9494639],\n",
       " [37.5160698, 127.0386317],\n",
       " [37.4940724, 127.0343027],\n",
       " [37.5238585, 127.039623],\n",
       " [37.4950455, 127.0451681],\n",
       " [37.4923809, 127.0400194],\n",
       " [37.5105703, 127.0242166],\n",
       " [37.4942669, 127.0346883],\n",
       " [37.5089873, 127.0327714],\n",
       " [37.4864625, 127.0452152],\n",
       " [37.5241246, 127.0493527],\n",
       " [37.4926646, 127.0576942],\n",
       " [37.512209, 127.0260775],\n",
       " [37.5120452, 127.0434392],\n",
       " [37.5242841, 127.0447752],\n",
       " [37.5145834, 127.0526429],\n",
       " [37.502503, 127.0356746],\n",
       " [37.5107294, 127.0278422],\n",
       " [37.4974885, 127.042183],\n",
       " [37.49312190000001, 127.0354221],\n",
       " [37.507793, 127.0344379],\n",
       " [37.5071531, 127.027625],\n",
       " [37.5138229, 127.0289671],\n",
       " [37.3416443, 127.9620967],\n",
       " [37.5050023, 127.035759],\n",
       " [37.5206602, 127.0299781],\n",
       " [37.5217079, 127.0331599],\n",
       " [37.5125118, 127.0531532],\n",
       " [37.4998521, 127.0514741],\n",
       " [37.4999946, 127.0393429],\n",
       " [37.4908748, 127.0573085],\n",
       " [37.5016802, 127.0505632],\n",
       " [37.5014608, 127.0532418],\n",
       " [37.4789079, 127.0472153],\n",
       " [37.4792134, 127.0509093],\n",
       " [37.5586363, 127.0336885],\n",
       " [37.4848802, 127.09066],\n",
       " [37.5281517, 127.0377981],\n",
       " [37.5446758, 126.9460288],\n",
       " [37.3834531, 126.9606622],\n",
       " [37.5068489, 127.0476866],\n",
       " [37.525117, 127.0525368],\n",
       " [37.5189026, 127.0253829],\n",
       " [37.4763984, 127.0463008],\n",
       " [37.5206602, 127.0299781],\n",
       " [37.506653, 127.040849],\n",
       " [37.5014608, 127.0532418],\n",
       " [37.5041457, 127.051482],\n",
       " [37.5222242, 127.0396519],\n",
       " [37.5757558, 126.9710255],\n",
       " [37.4656514, 127.1011166],\n",
       " [37.495879, 127.046228],\n",
       " [37.522319, 127.0351874],\n",
       " [37.5243111, 127.0234993],\n",
       " [37.482905, 127.080106],\n",
       " [37.4970642, 127.0421964],\n",
       " [37.5014608, 127.0532418],\n",
       " [37.3834531, 126.9606622],\n",
       " [37.5187831, 127.0487786],\n",
       " [37.4926646, 127.0576942],\n",
       " [37.5017917, 127.0553685]]"
      ]
     },
     "execution_count": 240,
     "metadata": {},
     "output_type": "execute_result"
    }
   ],
   "source": [
    "hos_location"
   ]
  },
  {
   "cell_type": "code",
   "execution_count": 241,
   "metadata": {
    "collapsed": false,
    "scrolled": true
   },
   "outputs": [
    {
     "data": {
      "text/plain": [
       "69"
      ]
     },
     "execution_count": 241,
     "metadata": {},
     "output_type": "execute_result"
    }
   ],
   "source": [
    "len(hos_list)"
   ]
  },
  {
   "cell_type": "code",
   "execution_count": null,
   "metadata": {
    "collapsed": true
   },
   "outputs": [],
   "source": []
  },
  {
   "cell_type": "markdown",
   "metadata": {},
   "source": [
    "### plot this location on the map"
   ]
  },
  {
   "cell_type": "markdown",
   "metadata": {},
   "source": [
    "map_osm = folium.Map(location=[37.5018238,127.0490535], zoom_start=17)\n",
    "folium.CircleMarker([37.501734, 127.050548], radius=7,color='#4abae2',fill_color='#4abae2', popup='주주동물종합병원').add_to(map_osm)\n",
    "folium.CircleMarker([37.500590, 127.051679], radius=7,color='#4abae2',fill_color='#4abae2', popup='그린동물병원').add_to(map_osm)"
   ]
  },
  {
   "cell_type": "code",
   "execution_count": 242,
   "metadata": {
    "collapsed": false
   },
   "outputs": [
    {
     "data": {
      "text/plain": [
       "69"
      ]
     },
     "execution_count": 242,
     "metadata": {},
     "output_type": "execute_result"
    }
   ],
   "source": [
    "len(list(pet_hos.name))"
   ]
  },
  {
   "cell_type": "code",
   "execution_count": 243,
   "metadata": {
    "collapsed": false,
    "scrolled": true
   },
   "outputs": [
    {
     "data": {
      "text/plain": [
       "['중앙동물메디컬센터',\n",
       " '압구정메이트동물병원',\n",
       " '서경석동물병원',\n",
       " '우리집동물병원',\n",
       " '고려종합동물병원',\n",
       " '퍼피즌동물병원',\n",
       " '논현동물병원',\n",
       " '청담동물병원',\n",
       " '삼성종합동물병원',\n",
       " '강남 25시동물병원',\n",
       " '메디포즈 동물의료센터',\n",
       " '이안동물의학센터(청담점)',\n",
       " '오래오래동물병원',\n",
       " '예은동물병원',\n",
       " '그레이스 동물병원',\n",
       " '현진우 동물병원',\n",
       " '충현동물병원',\n",
       " '한 동물병원',\n",
       " '일마레 동물 메디컬 센터',\n",
       " '래이동물의료센터',\n",
       " '아크리스 동물의료센터',\n",
       " '닥터펫동물의료센터',\n",
       " '이리온 동물의료원',\n",
       " '24시 청담우리 동물병원',\n",
       " '24시 닥터멍 동물병원',\n",
       " '다정동물병원',\n",
       " '위너스 동물병원',\n",
       " '츄츄 동물병원',\n",
       " '강남동물병원',\n",
       " '카디오 동물의료병원',\n",
       " '학동24시동물병원',\n",
       " '그린동물병원',\n",
       " '역삼동물병원',\n",
       " '스마트동물병원',\n",
       " '24시 신사동물병원',\n",
       " '마이펫동물의료센터',\n",
       " '24시 OK동물병원',\n",
       " '백산동물병원',\n",
       " '라온펫동물의료센터',\n",
       " '주주동물종합병원',\n",
       " '대치성심동물병원',\n",
       " '포이동물병원',\n",
       " '자연동물병원',\n",
       " '센트럴동물병원',\n",
       " '수서동물병원',\n",
       " '압구정동물병원',\n",
       " '굿모닝동물병원',\n",
       " '다옴동물병원',\n",
       " '선릉동물병원',\n",
       " '청담눈초롱안과동물병원',\n",
       " '페츠비동물병원',\n",
       " '개포별빛동물병원',\n",
       " '24시 스마트동물병원(신사본원)',\n",
       " '서울동물심장병원',\n",
       " '대치수동물병원',\n",
       " '루이스동물병원',\n",
       " '이비치 동물치과병원',\n",
       " '봄동물병원',\n",
       " '마더스동물병원',\n",
       " '도곡종합동물병원',\n",
       " '치료멍멍동물병원',\n",
       " '가로수동물병원',\n",
       " '수정동물병원',\n",
       " '드림동물병원',\n",
       " '서울동물병원',\n",
       " '동물병원다온',\n",
       " '아이윌24시동물병원',\n",
       " '대치동물의료센터',\n",
       " '원동물병원']"
      ]
     },
     "execution_count": 243,
     "metadata": {},
     "output_type": "execute_result"
    }
   ],
   "source": [
    "list(pet_hos.name)"
   ]
  },
  {
   "cell_type": "code",
   "execution_count": 244,
   "metadata": {
    "collapsed": false
   },
   "outputs": [
    {
     "data": {
      "text/plain": [
       "range(0, 138)"
      ]
     },
     "execution_count": 244,
     "metadata": {},
     "output_type": "execute_result"
    }
   ],
   "source": [
    "range(len(hos_location))"
   ]
  },
  {
   "cell_type": "code",
   "execution_count": 245,
   "metadata": {
    "collapsed": false,
    "scrolled": true
   },
   "outputs": [
    {
     "data": {
      "text/plain": [
       "list"
      ]
     },
     "execution_count": 245,
     "metadata": {},
     "output_type": "execute_result"
    }
   ],
   "source": [
    "type(list( (hos_location[0][0],hos_location[0][1]) ) )"
   ]
  },
  {
   "cell_type": "code",
   "execution_count": 246,
   "metadata": {
    "collapsed": false
   },
   "outputs": [
    {
     "data": {
      "text/plain": [
       "str"
      ]
     },
     "execution_count": 246,
     "metadata": {},
     "output_type": "execute_result"
    }
   ],
   "source": [
    "type(hos_location[50][2])"
   ]
  },
  {
   "cell_type": "code",
   "execution_count": 247,
   "metadata": {
    "collapsed": false
   },
   "outputs": [
    {
     "data": {
      "text/plain": [
       "138"
      ]
     },
     "execution_count": 247,
     "metadata": {},
     "output_type": "execute_result"
    }
   ],
   "source": [
    "len(hos_location)"
   ]
  },
  {
   "cell_type": "code",
   "execution_count": 248,
   "metadata": {
    "collapsed": false
   },
   "outputs": [],
   "source": [
    "map_osm = folium.Map(location=[37.5098484, 127.0414372] , zoom_start=17, tiles='Stamen Toner' )\n",
    "\n",
    "\n",
    "for coordinate in hos_location:\n",
    "  \n",
    "    folium.CircleMarker(coordinate , radius=7,color='#4abae2',fill_color='#4abae2' ).add_to(map_osm)\n",
    "    \n",
    "\n",
    "\n",
    "map_osm.save('C:/Users/Administrator/Desktop/py_geo/pet_hos_in_GN.html')"
   ]
  },
  {
   "cell_type": "code",
   "execution_count": null,
   "metadata": {
    "collapsed": true
   },
   "outputs": [],
   "source": []
  }
 ],
 "metadata": {
  "anaconda-cloud": {},
  "kernelspec": {
   "display_name": "Python [default]",
   "language": "python",
   "name": "python3"
  },
  "language_info": {
   "codemirror_mode": {
    "name": "ipython",
    "version": 3
   },
   "file_extension": ".py",
   "mimetype": "text/x-python",
   "name": "python",
   "nbconvert_exporter": "python",
   "pygments_lexer": "ipython3",
   "version": "3.5.2"
  }
 },
 "nbformat": 4,
 "nbformat_minor": 1
}
