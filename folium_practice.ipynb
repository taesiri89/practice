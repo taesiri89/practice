{
 "cells": [
  {
   "cell_type": "code",
   "execution_count": 3,
   "metadata": {
    "collapsed": true
   },
   "outputs": [],
   "source": [
    "import folium"
   ]
  },
  {
   "cell_type": "code",
   "execution_count": 4,
   "metadata": {
    "collapsed": true
   },
   "outputs": [],
   "source": [
    "map_osm = folium.Map(location=[37.566345,126.977893])"
   ]
  },
  {
   "cell_type": "code",
   "execution_count": 5,
   "metadata": {
    "collapsed": true
   },
   "outputs": [],
   "source": [
    "map_osm.save('C:/Users/Administrator/Desktop/py_geo/map1.html')"
   ]
  },
  {
   "cell_type": "code",
   "execution_count": 6,
   "metadata": {
    "collapsed": true
   },
   "outputs": [],
   "source": [
    "map_osm = folium.Map(location=[37.566345, 126.977893], zoom_start=17)"
   ]
  },
  {
   "cell_type": "code",
   "execution_count": 7,
   "metadata": {
    "collapsed": true
   },
   "outputs": [],
   "source": [
    "map_osm.save('C:/Users/Administrator/Desktop/py_geo/map2.html')"
   ]
  },
  {
   "cell_type": "markdown",
   "metadata": {},
   "source": [
    "### another map"
   ]
  },
  {
   "cell_type": "code",
   "execution_count": 8,
   "metadata": {
    "collapsed": true
   },
   "outputs": [],
   "source": [
    "map_osm = folium.Map(location=[37.566345,126.977893], zoom_start=17, tiles='Stamen Terrain')"
   ]
  },
  {
   "cell_type": "code",
   "execution_count": 9,
   "metadata": {
    "collapsed": true
   },
   "outputs": [],
   "source": [
    "map_osm.save('C:/Users/Administrator/Desktop/py_geo/map3.html')"
   ]
  },
  {
   "cell_type": "code",
   "execution_count": 10,
   "metadata": {
    "collapsed": true
   },
   "outputs": [],
   "source": [
    "map_osm = folium.Map(location=[37.566345,126.977893], zoom_start=17, tiles='Stamen Toner')"
   ]
  },
  {
   "cell_type": "code",
   "execution_count": 11,
   "metadata": {
    "collapsed": true
   },
   "outputs": [],
   "source": [
    "map_osm.save('C:/Users/Administrator/Desktop/py_geo/map4.html')"
   ]
  },
  {
   "cell_type": "markdown",
   "metadata": {},
   "source": [
    "### marker and popup"
   ]
  },
  {
   "cell_type": "code",
   "execution_count": 12,
   "metadata": {
    "collapsed": true
   },
   "outputs": [],
   "source": [
    "map_osm = folium.Map(location=[37.566345,126.977893], zoom_start=17)"
   ]
  },
  {
   "cell_type": "code",
   "execution_count": 13,
   "metadata": {
    "collapsed": false
   },
   "outputs": [
    {
     "data": {
      "text/plain": [
       "<folium.map.Marker at 0x8e32710>"
      ]
     },
     "execution_count": 13,
     "metadata": {},
     "output_type": "execute_result"
    }
   ],
   "source": [
    " folium.Marker([37.566345, 126.977893], popup='서울특별시청').add_to(map_osm)"
   ]
  },
  {
   "cell_type": "code",
   "execution_count": 14,
   "metadata": {
    "collapsed": false
   },
   "outputs": [
    {
     "data": {
      "text/plain": [
       "<folium.map.Marker at 0x8e51ef0>"
      ]
     },
     "execution_count": 14,
     "metadata": {},
     "output_type": "execute_result"
    }
   ],
   "source": [
    "folium.Marker([37.5658859, 126.9754788], popup='덕수궁').add_to(map_osm)"
   ]
  },
  {
   "cell_type": "code",
   "execution_count": 15,
   "metadata": {
    "collapsed": true
   },
   "outputs": [],
   "source": [
    "map_osm.save('C:/Users/Administrator/Desktop/py_geo/map5.html')"
   ]
  },
  {
   "cell_type": "markdown",
   "metadata": {},
   "source": [
    "### pet hospital marker"
   ]
  },
  {
   "cell_type": "code",
   "execution_count": 16,
   "metadata": {
    "collapsed": false
   },
   "outputs": [
    {
     "data": {
      "text/plain": [
       "[37.50059, 127.051679]"
      ]
     },
     "execution_count": 16,
     "metadata": {},
     "output_type": "execute_result"
    }
   ],
   "source": [
    "[37.501734, 127.050548] #주주동물종합병원\n",
    "\n",
    "[37.500590, 127.051679] #그린동물병원"
   ]
  },
  {
   "cell_type": "code",
   "execution_count": 17,
   "metadata": {
    "collapsed": false
   },
   "outputs": [
    {
     "data": {
      "text/plain": [
       "<folium.map.Marker at 0x8e3af28>"
      ]
     },
     "execution_count": 17,
     "metadata": {},
     "output_type": "execute_result"
    }
   ],
   "source": [
    "map_osm = folium.Map(location=[37.5018238,127.0490535], zoom_start=17)\n",
    "folium.Marker([37.501734, 127.050548], popup='주주동물종합병원').add_to(map_osm)\n",
    "folium.Marker([37.500590, 127.051679], popup='그린동물병원').add_to(map_osm)"
   ]
  },
  {
   "cell_type": "code",
   "execution_count": 18,
   "metadata": {
    "collapsed": true
   },
   "outputs": [],
   "source": [
    "map_osm.save('C:/Users/Administrator/Desktop/py_geo/pet_hos_map.html')"
   ]
  },
  {
   "cell_type": "markdown",
   "metadata": {},
   "source": [
    "## circle"
   ]
  },
  {
   "cell_type": "code",
   "execution_count": 19,
   "metadata": {
    "collapsed": false
   },
   "outputs": [
    {
     "data": {
      "text/plain": [
       "<folium.features.CircleMarker at 0x8e70668>"
      ]
     },
     "execution_count": 19,
     "metadata": {},
     "output_type": "execute_result"
    }
   ],
   "source": [
    "map_osm = folium.Map(location=[37.5018238,127.0490535], zoom_start=17)\n",
    "folium.CircleMarker([37.501734, 127.050548], radius=7,color='#4abae2',fill_color='#4abae2', popup='주주동물종합병원').add_to(map_osm)\n",
    "folium.CircleMarker([37.500590, 127.051679], radius=7,color='#4abae2',fill_color='#4abae2', popup='그린동물병원').add_to(map_osm)"
   ]
  },
  {
   "cell_type": "code",
   "execution_count": 20,
   "metadata": {
    "collapsed": false
   },
   "outputs": [],
   "source": [
    " map_osm.save('C:/Users/Administrator/Desktop/py_geo/pet_hos_map2.html')"
   ]
  },
  {
   "cell_type": "code",
   "execution_count": null,
   "metadata": {
    "collapsed": true
   },
   "outputs": [],
   "source": []
  },
  {
   "cell_type": "code",
   "execution_count": null,
   "metadata": {
    "collapsed": true
   },
   "outputs": [],
   "source": []
  },
  {
   "cell_type": "markdown",
   "metadata": {},
   "source": [
    "### geocoding trial"
   ]
  },
  {
   "cell_type": "code",
   "execution_count": 47,
   "metadata": {
    "collapsed": true
   },
   "outputs": [],
   "source": [
    "import requests"
   ]
  },
  {
   "cell_type": "code",
   "execution_count": 69,
   "metadata": {
    "collapsed": false
   },
   "outputs": [
    {
     "data": {
      "text/plain": [
       "(37.5281517, 127.0377981)"
      ]
     },
     "execution_count": 69,
     "metadata": {},
     "output_type": "execute_result"
    }
   ],
   "source": [
    "url = 'https://maps.googleapis.com/maps/api/geocode/json'\n",
    "params = {'sensor': 'false', 'address': '압구정메이트동물병원'}\n",
    "r = requests.get(url, params=params)\n",
    "results = r.json()['results']\n",
    "location = results[0]['geometry']['location']\n",
    "location['lat'], location['lng']"
   ]
  },
  {
   "cell_type": "code",
   "execution_count": 79,
   "metadata": {
    "collapsed": true
   },
   "outputs": [],
   "source": [
    "import pandas as pd"
   ]
  },
  {
   "cell_type": "code",
   "execution_count": 80,
   "metadata": {
    "collapsed": false
   },
   "outputs": [],
   "source": [
    "pet_hos = pd.read_csv('pet_hos.csv', encoding='euc-kr')"
   ]
  },
  {
   "cell_type": "code",
   "execution_count": 82,
   "metadata": {
    "collapsed": false,
    "scrolled": false
   },
   "outputs": [
    {
     "data": {
      "text/html": [
       "<div>\n",
       "<table border=\"1\" class=\"dataframe\">\n",
       "  <thead>\n",
       "    <tr style=\"text-align: right;\">\n",
       "      <th></th>\n",
       "      <th>areacode</th>\n",
       "      <th>registdate</th>\n",
       "      <th>name</th>\n",
       "      <th>condition_code</th>\n",
       "      <th>condition</th>\n",
       "      <th>address</th>\n",
       "      <th>closedate</th>\n",
       "      <th>phone</th>\n",
       "      <th>surface</th>\n",
       "    </tr>\n",
       "  </thead>\n",
       "  <tbody>\n",
       "    <tr>\n",
       "      <th>0</th>\n",
       "      <td>3220000</td>\n",
       "      <td>20110727</td>\n",
       "      <td>중앙동물메디컬센터</td>\n",
       "      <td>0</td>\n",
       "      <td>정상</td>\n",
       "      <td>서울특별시 강남구 논현동 277번지 21호</td>\n",
       "      <td>NaN</td>\n",
       "      <td>512-3331</td>\n",
       "      <td>388.60</td>\n",
       "    </tr>\n",
       "    <tr>\n",
       "      <th>1</th>\n",
       "      <td>3220000</td>\n",
       "      <td>20170714</td>\n",
       "      <td>압구정메이트동물병원</td>\n",
       "      <td>0</td>\n",
       "      <td>정상</td>\n",
       "      <td>서울특별시 강남구 신사동 660번지 7호 1층,2층</td>\n",
       "      <td>NaN</td>\n",
       "      <td>02-540-6303</td>\n",
       "      <td>NaN</td>\n",
       "    </tr>\n",
       "    <tr>\n",
       "      <th>2</th>\n",
       "      <td>3220000</td>\n",
       "      <td>20030719</td>\n",
       "      <td>서경석동물병원</td>\n",
       "      <td>0</td>\n",
       "      <td>정상</td>\n",
       "      <td>서울특별시 강남구 일원동 663번지 1층</td>\n",
       "      <td>NaN</td>\n",
       "      <td>NaN</td>\n",
       "      <td>0.00</td>\n",
       "    </tr>\n",
       "    <tr>\n",
       "      <th>3</th>\n",
       "      <td>3220000</td>\n",
       "      <td>20040507</td>\n",
       "      <td>우리집동물병원</td>\n",
       "      <td>0</td>\n",
       "      <td>정상</td>\n",
       "      <td>서울특별시 강남구 도곡동 180번지 31호</td>\n",
       "      <td>NaN</td>\n",
       "      <td>02-572-9300</td>\n",
       "      <td>0.00</td>\n",
       "    </tr>\n",
       "    <tr>\n",
       "      <th>4</th>\n",
       "      <td>3220000</td>\n",
       "      <td>20060414</td>\n",
       "      <td>고려종합동물병원</td>\n",
       "      <td>0</td>\n",
       "      <td>정상</td>\n",
       "      <td>서울특별시 강남구 도곡동 527번지 3호 도곡렉슬상가 109동</td>\n",
       "      <td>NaN</td>\n",
       "      <td>575-7999</td>\n",
       "      <td>64.52</td>\n",
       "    </tr>\n",
       "  </tbody>\n",
       "</table>\n",
       "</div>"
      ],
      "text/plain": [
       "   areacode  registdate        name  condition_code condition  \\\n",
       "0   3220000    20110727   중앙동물메디컬센터               0        정상   \n",
       "1   3220000    20170714  압구정메이트동물병원               0        정상   \n",
       "2   3220000    20030719     서경석동물병원               0        정상   \n",
       "3   3220000    20040507     우리집동물병원               0        정상   \n",
       "4   3220000    20060414    고려종합동물병원               0        정상   \n",
       "\n",
       "                               address  closedate        phone  surface  \n",
       "0            서울특별시 강남구 논현동 277번지 21호          NaN     512-3331   388.60  \n",
       "1        서울특별시 강남구 신사동 660번지 7호 1층,2층         NaN  02-540-6303      NaN  \n",
       "2              서울특별시 강남구 일원동 663번지 1층         NaN          NaN     0.00  \n",
       "3            서울특별시 강남구 도곡동 180번지 31호          NaN  02-572-9300     0.00  \n",
       "4  서울특별시 강남구 도곡동 527번지 3호 도곡렉슬상가 109동         NaN     575-7999    64.52  "
      ]
     },
     "execution_count": 82,
     "metadata": {},
     "output_type": "execute_result"
    }
   ],
   "source": [
    "pet_hos.head()"
   ]
  },
  {
   "cell_type": "code",
   "execution_count": 88,
   "metadata": {
    "collapsed": false,
    "scrolled": false
   },
   "outputs": [
    {
     "data": {
      "text/html": [
       "<div>\n",
       "<table border=\"1\" class=\"dataframe\">\n",
       "  <thead>\n",
       "    <tr style=\"text-align: right;\">\n",
       "      <th></th>\n",
       "      <th>areacode</th>\n",
       "      <th>registdate</th>\n",
       "      <th>name</th>\n",
       "      <th>condition_code</th>\n",
       "      <th>condition</th>\n",
       "      <th>address</th>\n",
       "      <th>closedate</th>\n",
       "      <th>phone</th>\n",
       "      <th>surface</th>\n",
       "    </tr>\n",
       "  </thead>\n",
       "  <tbody>\n",
       "    <tr>\n",
       "      <th>26</th>\n",
       "      <td>3220000</td>\n",
       "      <td>20130605</td>\n",
       "      <td>다정동물병원</td>\n",
       "      <td>0</td>\n",
       "      <td>정상</td>\n",
       "      <td>서울특별시 강남구 논현동 149번지 6호</td>\n",
       "      <td>NaN</td>\n",
       "      <td>02-540-7975</td>\n",
       "      <td>121.86</td>\n",
       "    </tr>\n",
       "    <tr>\n",
       "      <th>27</th>\n",
       "      <td>3220000</td>\n",
       "      <td>20120627</td>\n",
       "      <td>위너스 동물병원</td>\n",
       "      <td>0</td>\n",
       "      <td>정상</td>\n",
       "      <td>서울특별시 강남구 역삼동 732번지 26호</td>\n",
       "      <td>NaN</td>\n",
       "      <td>568-7975</td>\n",
       "      <td>90.00</td>\n",
       "    </tr>\n",
       "    <tr>\n",
       "      <th>28</th>\n",
       "      <td>3220000</td>\n",
       "      <td>20120801</td>\n",
       "      <td>츄츄 동물병원</td>\n",
       "      <td>0</td>\n",
       "      <td>정상</td>\n",
       "      <td>서울특별시 강남구 역삼동 834번지 66호</td>\n",
       "      <td>NaN</td>\n",
       "      <td>512-0075</td>\n",
       "      <td>95.04</td>\n",
       "    </tr>\n",
       "    <tr>\n",
       "      <th>29</th>\n",
       "      <td>3220000</td>\n",
       "      <td>20110628</td>\n",
       "      <td>강남동물병원</td>\n",
       "      <td>0</td>\n",
       "      <td>정상</td>\n",
       "      <td>서울특별시 강남구 논현동 234번지 26호 1층</td>\n",
       "      <td>NaN</td>\n",
       "      <td>514-7582</td>\n",
       "      <td>142.00</td>\n",
       "    </tr>\n",
       "    <tr>\n",
       "      <th>30</th>\n",
       "      <td>3220000</td>\n",
       "      <td>20121017</td>\n",
       "      <td>카디오 동물의료병원</td>\n",
       "      <td>0</td>\n",
       "      <td>정상</td>\n",
       "      <td>서울특별시 강남구 논현동 187번지 3호</td>\n",
       "      <td>NaN</td>\n",
       "      <td>546-2999</td>\n",
       "      <td>58.10</td>\n",
       "    </tr>\n",
       "  </tbody>\n",
       "</table>\n",
       "</div>"
      ],
      "text/plain": [
       "    areacode  registdate        name  condition_code condition  \\\n",
       "26   3220000    20130605      다정동물병원               0        정상   \n",
       "27   3220000    20120627    위너스 동물병원               0        정상   \n",
       "28   3220000    20120801     츄츄 동물병원               0        정상   \n",
       "29   3220000    20110628      강남동물병원               0        정상   \n",
       "30   3220000    20121017  카디오 동물의료병원               0        정상   \n",
       "\n",
       "                        address  closedate        phone  surface  \n",
       "26     서울특별시 강남구 논현동 149번지 6호          NaN  02-540-7975   121.86  \n",
       "27    서울특별시 강남구 역삼동 732번지 26호          NaN     568-7975    90.00  \n",
       "28    서울특별시 강남구 역삼동 834번지 66호          NaN     512-0075    95.04  \n",
       "29  서울특별시 강남구 논현동 234번지 26호 1층         NaN     514-7582   142.00  \n",
       "30     서울특별시 강남구 논현동 187번지 3호          NaN     546-2999    58.10  "
      ]
     },
     "execution_count": 88,
     "metadata": {},
     "output_type": "execute_result"
    }
   ],
   "source": [
    "pet_hos.tail()"
   ]
  },
  {
   "cell_type": "code",
   "execution_count": 85,
   "metadata": {
    "collapsed": false
   },
   "outputs": [],
   "source": [
    "hos_list = list(pet_hos.name)"
   ]
  },
  {
   "cell_type": "code",
   "execution_count": 87,
   "metadata": {
    "collapsed": false
   },
   "outputs": [
    {
     "data": {
      "text/plain": [
       "'카디오 동물의료병원'"
      ]
     },
     "execution_count": 87,
     "metadata": {},
     "output_type": "execute_result"
    }
   ],
   "source": [
    "hos_list[-1]"
   ]
  },
  {
   "cell_type": "code",
   "execution_count": 66,
   "metadata": {
    "collapsed": false
   },
   "outputs": [
    {
     "data": {
      "text/plain": [
       "(37.5098484, 127.0414372)"
      ]
     },
     "execution_count": 66,
     "metadata": {},
     "output_type": "execute_result"
    }
   ],
   "source": [
    "params = {'sensor': 'false', 'address': '중앙동물메디컬센터'}\n",
    "r = requests.get(url, params=params)\n",
    "results = r.json()['results']\n",
    "location = results[0]['geometry']['location']\n",
    "location['lat'], location['lng']"
   ]
  },
  {
   "cell_type": "code",
   "execution_count": 67,
   "metadata": {
    "collapsed": false
   },
   "outputs": [
    {
     "data": {
      "text/plain": [
       "76"
      ]
     },
     "execution_count": 67,
     "metadata": {},
     "output_type": "execute_result"
    }
   ],
   "source": [
    "len(hos_list)"
   ]
  },
  {
   "cell_type": "code",
   "execution_count": 91,
   "metadata": {
    "collapsed": true
   },
   "outputs": [],
   "source": [
    "hos_location = []"
   ]
  },
  {
   "cell_type": "code",
   "execution_count": 93,
   "metadata": {
    "collapsed": false,
    "scrolled": false
   },
   "outputs": [
    {
     "name": "stdout",
     "output_type": "stream",
     "text": [
      "중앙동물메디컬센터좌표 받는중..\n",
      "중앙동물메디컬센터좌표 저장완료....\n",
      "압구정메이트동물병원좌표 받는중..\n",
      "압구정메이트동물병원좌표 저장완료....\n",
      "서경석동물병원좌표 받는중..\n",
      "서경석동물병원좌표 저장완료....\n",
      "우리집동물병원좌표 받는중..\n",
      "우리집동물병원좌표 저장완료....\n",
      "고려종합동물병원좌표 받는중..\n",
      "고려종합동물병원좌표 저장완료....\n",
      "퍼피즌동물병원좌표 받는중..\n",
      "퍼피즌동물병원좌표 저장완료....\n",
      "논현동물병원좌표 받는중..\n",
      "논현동물병원좌표 저장완료....\n",
      "청담동물병원좌표 받는중..\n",
      "청담동물병원좌표 저장완료....\n",
      "삼성종합동물병원좌표 받는중..\n",
      "삼성종합동물병원좌표 저장완료....\n",
      "강남 25시동물병원좌표 받는중..\n",
      "강남 25시동물병원좌표 저장완료....\n",
      "메디포즈 동물의료센터좌표 받는중..\n",
      "메디포즈 동물의료센터좌표 저장완료....\n",
      "이안동물의학센터(청담점)좌표 받는중..\n",
      "이안동물의학센터(청담점)좌표 저장완료....\n",
      "오래오래동물병원좌표 받는중..\n",
      "오래오래동물병원좌표 저장완료....\n",
      "예은동물병원좌표 받는중..\n",
      "예은동물병원좌표 저장완료....\n",
      "개포동물병원좌표 받는중..\n",
      "개포동물병원좌표 저장완료....\n",
      "그레이스 동물병원좌표 받는중..\n",
      "그레이스 동물병원좌표 저장완료....\n",
      "현진우 동물병원좌표 받는중..\n",
      "현진우 동물병원좌표 저장완료....\n",
      "충현동물병원좌표 받는중..\n",
      "충현동물병원좌표 저장완료....\n",
      "한 동물병원좌표 받는중..\n",
      "한 동물병원좌표 저장완료....\n",
      "일마레 동물 메디컬 센터좌표 받는중..\n",
      "일마레 동물 메디컬 센터좌표 저장완료....\n",
      "래이동물의료센터좌표 받는중..\n",
      "래이동물의료센터좌표 저장완료....\n",
      "아크리스 동물의료센터좌표 받는중..\n",
      "아크리스 동물의료센터좌표 저장완료....\n",
      "닥터펫동물의료센터좌표 받는중..\n",
      "닥터펫동물의료센터좌표 저장완료....\n",
      "이리온 동물의료원좌표 받는중..\n",
      "이리온 동물의료원좌표 저장완료....\n",
      "24시 청담우리 동물병원좌표 받는중..\n",
      "24시 청담우리 동물병원좌표 저장완료....\n",
      "24시 닥터멍 동물병원좌표 받는중..\n",
      "24시 닥터멍 동물병원좌표 저장완료....\n",
      "다정동물병원좌표 받는중..\n",
      "다정동물병원좌표 저장완료....\n",
      "위너스 동물병원좌표 받는중..\n",
      "위너스 동물병원좌표 저장완료....\n",
      "츄츄 동물병원좌표 받는중..\n",
      "츄츄 동물병원좌표 저장완료....\n",
      "강남동물병원좌표 받는중..\n",
      "강남동물병원좌표 저장완료....\n",
      "카디오 동물의료병원좌표 받는중..\n"
     ]
    },
    {
     "ename": "IndexError",
     "evalue": "list index out of range",
     "output_type": "error",
     "traceback": [
      "\u001b[0;31m---------------------------------------------------------------------------\u001b[0m",
      "\u001b[0;31mIndexError\u001b[0m                                Traceback (most recent call last)",
      "\u001b[0;32m<ipython-input-93-ae3ed3a1ef68>\u001b[0m in \u001b[0;36m<module>\u001b[0;34m()\u001b[0m\n\u001b[1;32m      5\u001b[0m     \u001b[0mresults\u001b[0m \u001b[1;33m=\u001b[0m \u001b[0mr\u001b[0m\u001b[1;33m.\u001b[0m\u001b[0mjson\u001b[0m\u001b[1;33m(\u001b[0m\u001b[1;33m)\u001b[0m\u001b[1;33m[\u001b[0m\u001b[1;34m'results'\u001b[0m\u001b[1;33m]\u001b[0m\u001b[1;33m\u001b[0m\u001b[0m\n\u001b[1;32m      6\u001b[0m     \u001b[0mprint\u001b[0m\u001b[1;33m(\u001b[0m\u001b[0mname\u001b[0m \u001b[1;33m+\u001b[0m\u001b[1;34m'좌표 받는중..'\u001b[0m\u001b[1;33m)\u001b[0m\u001b[1;33m\u001b[0m\u001b[0m\n\u001b[0;32m----> 7\u001b[0;31m     \u001b[0mlocation\u001b[0m \u001b[1;33m=\u001b[0m \u001b[0mresults\u001b[0m\u001b[1;33m[\u001b[0m\u001b[1;36m0\u001b[0m\u001b[1;33m]\u001b[0m\u001b[1;33m[\u001b[0m\u001b[1;34m'geometry'\u001b[0m\u001b[1;33m]\u001b[0m\u001b[1;33m[\u001b[0m\u001b[1;34m'location'\u001b[0m\u001b[1;33m]\u001b[0m\u001b[1;33m\u001b[0m\u001b[0m\n\u001b[0m\u001b[1;32m      8\u001b[0m     \u001b[0mprint\u001b[0m\u001b[1;33m(\u001b[0m\u001b[0mname\u001b[0m\u001b[1;33m+\u001b[0m\u001b[1;34m'좌표 저장완료....'\u001b[0m\u001b[1;33m)\u001b[0m\u001b[1;33m\u001b[0m\u001b[0m\n\u001b[1;32m      9\u001b[0m     \u001b[0msmall_list\u001b[0m \u001b[1;33m=\u001b[0m \u001b[0mlist\u001b[0m\u001b[1;33m(\u001b[0m\u001b[1;33m[\u001b[0m\u001b[0mlocation\u001b[0m\u001b[1;33m[\u001b[0m\u001b[1;34m'lat'\u001b[0m\u001b[1;33m]\u001b[0m\u001b[1;33m,\u001b[0m \u001b[0mlocation\u001b[0m\u001b[1;33m[\u001b[0m\u001b[1;34m'lng'\u001b[0m\u001b[1;33m]\u001b[0m\u001b[1;33m]\u001b[0m\u001b[1;33m)\u001b[0m\u001b[1;33m\u001b[0m\u001b[0m\n",
      "\u001b[0;31mIndexError\u001b[0m: list index out of range"
     ]
    }
   ],
   "source": [
    "\n",
    "for name in hos_list:\n",
    "    params = {'sensor': 'false', 'address': name}\n",
    "    r = requests.get(url, params=params)\n",
    "    results = r.json()['results']\n",
    "    print(name +'좌표 받는중..')\n",
    "    location = results[0]['geometry']['location']\n",
    "    print(name+'좌표 저장완료....')\n",
    "    small_list = list([location['lat'], location['lng']])\n",
    "    hos_location.append(small_list)\n",
    "    "
   ]
  },
  {
   "cell_type": "code",
   "execution_count": 94,
   "metadata": {
    "collapsed": false
   },
   "outputs": [
    {
     "data": {
      "text/plain": [
       "[[37.5098484, 127.0414372],\n",
       " [37.5281517, 127.0377981],\n",
       " [37.49235669999999, 127.084188],\n",
       " [37.4864625, 127.0452152],\n",
       " [37.4953782, 127.0527143],\n",
       " [37.5121535, 127.0439095],\n",
       " [37.507476, 127.0267895],\n",
       " [37.5145834, 127.0526429],\n",
       " [37.37827, 127.9494639],\n",
       " [37.5160698, 127.0386317],\n",
       " [37.4940724, 127.0343027],\n",
       " [37.5238585, 127.039623],\n",
       " [37.4950455, 127.0451681],\n",
       " [37.4923809, 127.0400194],\n",
       " [37.4893514, 127.068824],\n",
       " [37.5105703, 127.0242166],\n",
       " [37.4942669, 127.0346883],\n",
       " [37.5089873, 127.0327714],\n",
       " [37.4864625, 127.0452152],\n",
       " [37.5241246, 127.0493527],\n",
       " [37.4926646, 127.0576942],\n",
       " [37.512209, 127.0260775],\n",
       " [37.5120452, 127.0434392],\n",
       " [37.5242841, 127.0447752],\n",
       " [37.5145834, 127.0526429],\n",
       " [37.502503, 127.0356746],\n",
       " [37.5107294, 127.0278422],\n",
       " [37.4974885, 127.042183],\n",
       " [37.49312190000001, 127.0354221],\n",
       " [37.507793, 127.0344379]]"
      ]
     },
     "execution_count": 94,
     "metadata": {},
     "output_type": "execute_result"
    }
   ],
   "source": [
    "hos_location"
   ]
  },
  {
   "cell_type": "markdown",
   "metadata": {},
   "source": [
    "### plot this location on the map"
   ]
  },
  {
   "cell_type": "markdown",
   "metadata": {},
   "source": [
    "map_osm = folium.Map(location=[37.5018238,127.0490535], zoom_start=17)\n",
    "folium.CircleMarker([37.501734, 127.050548], radius=7,color='#4abae2',fill_color='#4abae2', popup='주주동물종합병원').add_to(map_osm)\n",
    "folium.CircleMarker([37.500590, 127.051679], radius=7,color='#4abae2',fill_color='#4abae2', popup='그린동물병원').add_to(map_osm)"
   ]
  },
  {
   "cell_type": "code",
   "execution_count": 98,
   "metadata": {
    "collapsed": true
   },
   "outputs": [],
   "source": [
    "map_osm = folium.Map(location=[37.5098484, 127.0414372] , zoom_start=17, tiles='Stamen Toner' )\n",
    "\n",
    "for coordinate in hos_location:\n",
    "    folium.CircleMarker(coordinate, radius=7,color='#4abae2',fill_color='#4abae2').add_to(map_osm)\n",
    "    folium.CircleMarker(coordinate, radius=7,color='#4abae2',fill_color='#4abae2').add_to(map_osm)\n",
    "\n",
    "map_osm.save('C:/Users/Administrator/Desktop/py_geo/pet_hos_in_GN.html')"
   ]
  },
  {
   "cell_type": "code",
   "execution_count": null,
   "metadata": {
    "collapsed": true
   },
   "outputs": [],
   "source": []
  }
 ],
 "metadata": {
  "anaconda-cloud": {},
  "kernelspec": {
   "display_name": "Python [default]",
   "language": "python",
   "name": "python3"
  },
  "language_info": {
   "codemirror_mode": {
    "name": "ipython",
    "version": 3
   },
   "file_extension": ".py",
   "mimetype": "text/x-python",
   "name": "python",
   "nbconvert_exporter": "python",
   "pygments_lexer": "ipython3",
   "version": "3.5.2"
  }
 },
 "nbformat": 4,
 "nbformat_minor": 1
}
